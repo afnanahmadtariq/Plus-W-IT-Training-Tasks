{
  "nbformat": 4,
  "nbformat_minor": 0,
  "metadata": {
    "colab": {
      "provenance": []
    },
    "kernelspec": {
      "name": "python3",
      "display_name": "Python 3"
    },
    "language_info": {
      "name": "python"
    }
  },
  "cells": [
    {
      "cell_type": "code",
      "execution_count": 2,
      "metadata": {
        "colab": {
          "base_uri": "https://localhost:8080/"
        },
        "id": "3OVQetzUwTQW",
        "outputId": "b154bd45-867e-4a86-b61b-4f116abc3c8d"
      },
      "outputs": [
        {
          "output_type": "stream",
          "name": "stdout",
          "text": [
            "Max: 9, Min: 1\n"
          ]
        }
      ],
      "source": [
        "# Define the Function\n",
        "def find_max_min(lst):\n",
        "\n",
        "  # Initialize max_val and min_val\n",
        "  max_val = lst[0]\n",
        "  min_val = lst[0]\n",
        "\n",
        "  # Iterate Through the List\n",
        "  for num in lst:\n",
        "    # Compare Each Number to Find Maximum and Minimum\n",
        "    if num > max_val:\n",
        "      max_val = num\n",
        "    if num < min_val:\n",
        "      min_val = num\n",
        "  # Return the Maximum and Minimum Values\n",
        "  return max_val, min_val\n",
        "\n",
        "# Define a List and Call the Function\n",
        "numbers = [3, 9, 2, 8, 1]\n",
        "max_val, min_val = find_max_min(numbers)\n",
        "print(f\"Max: {max_val}, Min: {min_val}\")"
      ]
    }
  ]
}