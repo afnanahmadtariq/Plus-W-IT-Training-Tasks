{
  "nbformat": 4,
  "nbformat_minor": 0,
  "metadata": {
    "colab": {
      "provenance": []
    },
    "kernelspec": {
      "name": "python3",
      "display_name": "Python 3"
    },
    "language_info": {
      "name": "python"
    }
  },
  "cells": [
    {
      "cell_type": "code",
      "execution_count": 13,
      "metadata": {
        "id": "sniKAgWjwd76"
      },
      "outputs": [],
      "source": [
        "# Initialize an Empty Dictionary\n",
        "inventory = {}"
      ]
    },
    {
      "cell_type": "code",
      "source": [
        "# Define Function to Add Items\n",
        "def add_item(item, quantity):\n",
        "  # Check if the Item Exists in inventory and If the Item Does Not Exist, Add It\n",
        "  if item in inventory:\n",
        "      inventory[item] += quantity\n",
        "  else:\n",
        "      inventory[item] = quantity"
      ],
      "metadata": {
        "id": "fmHFmzKm1dgN"
      },
      "execution_count": 14,
      "outputs": []
    },
    {
      "cell_type": "code",
      "source": [
        "# Define Function to Remove Items\n",
        "def remove_item(item, quantity):\n",
        "  # Check If the Item Exists and Has Enough Quantity and Decrease the Quantity\n",
        "  if item in inventory and inventory[item] >= quantity:\n",
        "      inventory[item] -= quantity\n",
        "      # If the Quantity Becomes Zero, Remove the Item\n",
        "      if inventory[item] == 0:\n",
        "          del inventory[item]\n",
        "  else:\n",
        "      print(f\"Insufficient quantity of {item}.\")"
      ],
      "metadata": {
        "id": "HLYYxuDl1ef1"
      },
      "execution_count": 15,
      "outputs": []
    },
    {
      "cell_type": "code",
      "source": [
        "# Define Function to View Inventory\n",
        "def view_inventory():\n",
        "  # Loop Through the Inventory\n",
        "  for item, quantity in inventory.items():\n",
        "      print(f\"{item}: {quantity}\")"
      ],
      "metadata": {
        "id": "TH282Phe1frt"
      },
      "execution_count": 16,
      "outputs": []
    },
    {
      "cell_type": "code",
      "source": [
        "# Usage\n",
        "add_item(\"Apple\", 10)\n",
        "add_item(\"Banana\", 5)\n",
        "remove_item(\"Apple\", 3)\n",
        "view_inventory()"
      ],
      "metadata": {
        "colab": {
          "base_uri": "https://localhost:8080/"
        },
        "id": "bAPp6H2b1gS0",
        "outputId": "3522eca5-99a4-48f7-e1ce-9477b52610ff"
      },
      "execution_count": 17,
      "outputs": [
        {
          "output_type": "stream",
          "name": "stdout",
          "text": [
            "Apple: 7\n",
            "Banana: 5\n"
          ]
        }
      ]
    }
  ]
}