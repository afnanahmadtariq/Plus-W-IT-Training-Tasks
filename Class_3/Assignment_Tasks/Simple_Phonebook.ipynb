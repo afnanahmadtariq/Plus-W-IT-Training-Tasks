{
  "nbformat": 4,
  "nbformat_minor": 0,
  "metadata": {
    "colab": {
      "provenance": []
    },
    "kernelspec": {
      "name": "python3",
      "display_name": "Python 3"
    },
    "language_info": {
      "name": "python"
    }
  },
  "cells": [
    {
      "cell_type": "code",
      "execution_count": 2,
      "metadata": {
        "id": "KThFqUElwZuX"
      },
      "outputs": [],
      "source": [
        "# Initialize an Empty Dictionary\n",
        "phonebook = {}\n"
      ]
    },
    {
      "cell_type": "code",
      "source": [
        "# Define Function to Add Contacts\n",
        "def add_contact(name, number):\n",
        "    phonebook[name] = number"
      ],
      "metadata": {
        "id": "veSDaD8A0_mu"
      },
      "execution_count": 5,
      "outputs": []
    },
    {
      "cell_type": "code",
      "source": [
        "# Define Function to Retrieve a Phone Number\n",
        "def get_number(name):\n",
        "    return phonebook.get(name, \"Contact not found\")"
      ],
      "metadata": {
        "id": "9kgwnr2c1Gfk"
      },
      "execution_count": 6,
      "outputs": []
    },
    {
      "cell_type": "code",
      "source": [
        "# Usage\n",
        "add_contact(\"Alice\", \"1234567890\")\n",
        "add_contact(\"Bob\", \"9876543210\")\n",
        "print(get_number(\"Alice\"))"
      ],
      "metadata": {
        "colab": {
          "base_uri": "https://localhost:8080/"
        },
        "id": "rzdYU0jv1JnU",
        "outputId": "34c42e3a-8445-482f-da9b-dabc867cbe7a"
      },
      "execution_count": 7,
      "outputs": [
        {
          "output_type": "stream",
          "name": "stdout",
          "text": [
            "1234567890\n"
          ]
        }
      ]
    }
  ]
}