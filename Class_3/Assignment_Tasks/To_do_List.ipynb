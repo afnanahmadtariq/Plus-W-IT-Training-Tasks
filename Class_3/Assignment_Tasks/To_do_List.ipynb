{
  "nbformat": 4,
  "nbformat_minor": 0,
  "metadata": {
    "colab": {
      "provenance": []
    },
    "kernelspec": {
      "name": "python3",
      "display_name": "Python 3"
    },
    "language_info": {
      "name": "python"
    }
  },
  "cells": [
    {
      "cell_type": "code",
      "execution_count": 17,
      "metadata": {
        "id": "QE2ibQ7Ivv_E"
      },
      "outputs": [],
      "source": [
        "# Initialize an Empty List\n",
        "\n",
        "tasks = []"
      ]
    },
    {
      "cell_type": "code",
      "source": [
        "# Define a Function to Add Tasks\n",
        "\n",
        "def add_task(task):\n",
        "    tasks.append(task)"
      ],
      "metadata": {
        "id": "yQilUv63v5mD"
      },
      "execution_count": 2,
      "outputs": []
    },
    {
      "cell_type": "code",
      "source": [
        "# Define a Function to Remove Tasks\n",
        "\n",
        "def remove_task(task):\n",
        "    if task in tasks:\n",
        "        tasks.remove(task)"
      ],
      "metadata": {
        "id": "LmXdoEqQv94r"
      },
      "execution_count": 4,
      "outputs": []
    },
    {
      "cell_type": "code",
      "source": [
        "# Define a Function to View Tasks\n",
        "\n",
        "def view_tasks():\n",
        "    for task in tasks:\n",
        "        print(task)"
      ],
      "metadata": {
        "id": "xZ-gHdhJwCSj"
      },
      "execution_count": 6,
      "outputs": []
    },
    {
      "cell_type": "code",
      "source": [
        "# Usage\n",
        "\n",
        "add_task(\"Finish homework\")\n",
        "add_task(\"Buy groceries\")\n",
        "view_tasks()\n",
        "remove_task(\"Buy groceries\")\n",
        "view_tasks()"
      ],
      "metadata": {
        "colab": {
          "base_uri": "https://localhost:8080/"
        },
        "id": "wXMAzLzk03al",
        "outputId": "74e26252-c138-4bab-bbfd-0db06ca0c599"
      },
      "execution_count": 18,
      "outputs": [
        {
          "output_type": "stream",
          "name": "stdout",
          "text": [
            "Finish homework\n",
            "Buy groceries\n",
            "Finish homework\n"
          ]
        }
      ]
    }
  ]
}