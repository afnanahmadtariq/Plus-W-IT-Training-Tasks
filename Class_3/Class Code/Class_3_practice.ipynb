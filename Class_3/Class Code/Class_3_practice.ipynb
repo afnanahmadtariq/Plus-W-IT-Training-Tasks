{
  "nbformat": 4,
  "nbformat_minor": 0,
  "metadata": {
    "colab": {
      "provenance": []
    },
    "kernelspec": {
      "name": "python3",
      "display_name": "Python 3"
    },
    "language_info": {
      "name": "python"
    }
  },
  "cells": [
    {
      "cell_type": "code",
      "execution_count": null,
      "metadata": {
        "colab": {
          "base_uri": "https://localhost:8080/"
        },
        "id": "6vMfLkZM3WNO",
        "outputId": "a77b49a0-aa55-4234-b118-882f76d07fff"
      },
      "outputs": [
        {
          "output_type": "stream",
          "name": "stdout",
          "text": [
            "Enter your age: 21\n",
            "You are eligible to vote.\n"
          ]
        }
      ],
      "source": [
        "# Conditional Statement\n",
        "\n",
        "age = int(input(\"Enter your age: \"))\n",
        "\n",
        "if age >= 21:\n",
        "  print(\"You are eligible to vote.\")\n",
        "\n"
      ]
    },
    {
      "cell_type": "code",
      "source": [
        "#if-else statement\n",
        "age = int(input(\"Enter your age: \"))\n",
        "\n",
        "if age >= 21:\n",
        "  print(\"You are eligible to vote.\")\n",
        "else:\n",
        "  print(\"You are not eligible to vote.\")"
      ],
      "metadata": {
        "colab": {
          "base_uri": "https://localhost:8080/"
        },
        "id": "SCCwwRUz5DJ6",
        "outputId": "5784a3a8-dc86-4eea-81cb-d67468395f23"
      },
      "execution_count": null,
      "outputs": [
        {
          "output_type": "stream",
          "name": "stdout",
          "text": [
            "Enter your age: 18\n",
            "You are not eligible to vote.\n"
          ]
        }
      ]
    },
    {
      "cell_type": "code",
      "source": [
        "#if else and elif statement\n",
        "marks = 70\n",
        "if marks >= 90:\n",
        "  print(\"Grade A\")\n",
        "elif marks >= 80:\n",
        "  print(\"Grade B\")\n",
        "elif marks >= 70:\n",
        "  print(\"Grade C\")\n",
        "elif marks >= 60:\n",
        "  print(\"Grade D\")\n",
        "else:\n",
        "  print(\"Grade F\")"
      ],
      "metadata": {
        "colab": {
          "base_uri": "https://localhost:8080/"
        },
        "id": "Dno-ER8Q5NlK",
        "outputId": "19f11574-0d87-4ceb-d9a9-be964b7774c9"
      },
      "execution_count": null,
      "outputs": [
        {
          "output_type": "stream",
          "name": "stdout",
          "text": [
            "Grade C\n"
          ]
        }
      ]
    },
    {
      "cell_type": "code",
      "source": [
        "#Nested If Statement\n",
        "num = int(input(\"Enter a number: \"))\n",
        "\n",
        "if num >= 0:\n",
        "  if num == 0:\n",
        "    print(\"The number is zero.\")\n",
        "  else:\n",
        "    print(\"The number is positive.\")\n",
        "else:\n",
        "  print(\"The number is negative.\")"
      ],
      "metadata": {
        "colab": {
          "base_uri": "https://localhost:8080/"
        },
        "id": "2KldfBjx5aMh",
        "outputId": "8088437e-0521-464a-c29f-224ad5a9cb83"
      },
      "execution_count": null,
      "outputs": [
        {
          "output_type": "stream",
          "name": "stdout",
          "text": [
            "Enter a number: 100\n",
            "The number is positive.\n"
          ]
        }
      ]
    },
    {
      "cell_type": "code",
      "source": [
        "# Use nested if statement to check if it is greatar than 5 and even or odd?\n",
        "num = int(input(\"Enter a number: \"))\n",
        "\n",
        "if num > 5:\n",
        "  if num % 2 == 0:\n",
        "    print(num, \"is greater than 5 and even.\")\n",
        "  else:\n",
        "    print(f\"{num} is greater than 5 and odd.\")"
      ],
      "metadata": {
        "colab": {
          "base_uri": "https://localhost:8080/"
        },
        "id": "efUl08p052aZ",
        "outputId": "ba5f63a6-2d3b-47b2-c3cd-ecc682a16b12"
      },
      "execution_count": null,
      "outputs": [
        {
          "output_type": "stream",
          "name": "stdout",
          "text": [
            "Enter a number: 10\n",
            "10 is greater than 5 and even.\n"
          ]
        }
      ]
    },
    {
      "cell_type": "code",
      "source": [
        "is_adult = True\n",
        "has_voter_id = False\n",
        "if is_adult and has_voter_id:\n",
        "  print(\"You are eligible to vote.\")\n",
        "else:\n",
        "  print(\"You are not eligible to vote.\")"
      ],
      "metadata": {
        "colab": {
          "base_uri": "https://localhost:8080/"
        },
        "id": "WNyry67v6AHK",
        "outputId": "283e56bb-55b2-46a1-afb1-a0efe78d71f4"
      },
      "execution_count": null,
      "outputs": [
        {
          "output_type": "stream",
          "name": "stdout",
          "text": [
            "You are not eligible to vote.\n"
          ]
        }
      ]
    },
    {
      "cell_type": "code",
      "source": [
        "# Ternary Operator\n",
        "\n",
        "num = 10\n",
        "result = \"Even\" if num % 2 == 0 else \"Odd\"\n",
        "print(result)\n",
        "\n",
        "age = 30\n",
        "message = \"Adult\" if age >= 18 else \"Not Adult\"\n",
        "print(message)"
      ],
      "metadata": {
        "colab": {
          "base_uri": "https://localhost:8080/"
        },
        "id": "sq6NrtaA7XIb",
        "outputId": "5c3ba07c-eeab-4f22-f589-772199d5321d"
      },
      "execution_count": null,
      "outputs": [
        {
          "output_type": "stream",
          "name": "stdout",
          "text": [
            "Even\n",
            "Adult\n"
          ]
        }
      ]
    },
    {
      "cell_type": "code",
      "source": [
        "#match-case statement\n",
        "#Traffic Singal\n",
        "\n",
        "color = input(\"Enter the color: \").lower()\n",
        "match color:\n",
        "  case 'red':\n",
        "    print(\"Stop\")\n",
        "  case 'yellow':\n",
        "    print(\"Get Ready\")\n",
        "  case 'green':\n",
        "    print(\"Go\")\n",
        "  case _:\n",
        "    print(\"Invalid color\")"
      ],
      "metadata": {
        "colab": {
          "base_uri": "https://localhost:8080/"
        },
        "id": "TLhOQupg7tGD",
        "outputId": "ffab1f90-f2a1-4ed3-a66f-899017d2e26a"
      },
      "execution_count": null,
      "outputs": [
        {
          "output_type": "stream",
          "name": "stdout",
          "text": [
            "Enter the color: REd\n",
            "Stop\n"
          ]
        }
      ]
    },
    {
      "cell_type": "code",
      "source": [
        "#For Loop on list\n",
        "\n",
        "fruits = [\"Apple\", \"banana\", \"Mango\"]\n",
        "for fruit in fruits:\n",
        "  print(fruit)"
      ],
      "metadata": {
        "colab": {
          "base_uri": "https://localhost:8080/"
        },
        "id": "DZ88bP6V8yaK",
        "outputId": "4d5d4867-4154-48fe-843f-5a21976350b0"
      },
      "execution_count": null,
      "outputs": [
        {
          "output_type": "stream",
          "name": "stdout",
          "text": [
            "Apple\n",
            "banana\n",
            "Mango\n"
          ]
        }
      ]
    },
    {
      "cell_type": "code",
      "source": [
        "#For Loop on string\n",
        "\n",
        "fruits = \"Apple\"\n",
        "for fruit in fruits:\n",
        "  print(fruit)"
      ],
      "metadata": {
        "colab": {
          "base_uri": "https://localhost:8080/"
        },
        "id": "TNqjQrgo9T6z",
        "outputId": "5e32a6a7-f2ab-4783-8f4b-1089db57acc9"
      },
      "execution_count": null,
      "outputs": [
        {
          "output_type": "stream",
          "name": "stdout",
          "text": [
            "A\n",
            "p\n",
            "p\n",
            "l\n",
            "e\n"
          ]
        }
      ]
    },
    {
      "cell_type": "code",
      "source": [
        "#For Loop on dictionary\n",
        "\n",
        "fruits = {\"fruit\": \"apple\", \"Car\":\"Suzuki\", \"City\": \"Tokyo\"}\n",
        "for key, value in fruits.items():\n",
        "  print(f\"{key} : {value}\")"
      ],
      "metadata": {
        "colab": {
          "base_uri": "https://localhost:8080/"
        },
        "id": "EoepdSsw9hna",
        "outputId": "0960b9cb-e2af-4afe-d974-672d1f30d890"
      },
      "execution_count": null,
      "outputs": [
        {
          "output_type": "stream",
          "name": "stdout",
          "text": [
            "fruit : apple\n",
            "Car : Suzuki\n",
            "City : Tokyo\n"
          ]
        }
      ]
    },
    {
      "cell_type": "code",
      "source": [
        "#Range function\n",
        "for i in range(1, 11):\n",
        "  print(i)"
      ],
      "metadata": {
        "colab": {
          "base_uri": "https://localhost:8080/"
        },
        "id": "nql4JXFd-J80",
        "outputId": "d77f4fd6-2f54-4e47-8b7d-f00e8d93bfce"
      },
      "execution_count": null,
      "outputs": [
        {
          "output_type": "stream",
          "name": "stdout",
          "text": [
            "1\n",
            "2\n",
            "3\n",
            "4\n",
            "5\n",
            "6\n",
            "7\n",
            "8\n",
            "9\n",
            "10\n"
          ]
        }
      ]
    },
    {
      "cell_type": "code",
      "source": [
        "#While Loop\n",
        "count = 0\n",
        "while count <= 5:\n",
        "  print(f\"Count: {count}\")\n",
        "  count += 1"
      ],
      "metadata": {
        "colab": {
          "base_uri": "https://localhost:8080/"
        },
        "id": "ZYW6rwzO-Wbr",
        "outputId": "a9f8d36e-4c86-4345-e29a-bb84def66e40"
      },
      "execution_count": null,
      "outputs": [
        {
          "output_type": "stream",
          "name": "stdout",
          "text": [
            "Count: 0\n",
            "Count: 1\n",
            "Count: 2\n",
            "Count: 3\n",
            "Count: 4\n",
            "Count: 5\n"
          ]
        }
      ]
    },
    {
      "cell_type": "code",
      "source": [
        "#While Loop infinite\n",
        "\n",
        "while True:\n",
        "  user_input = input(\"Enter q to exit: \")\n",
        "  if user_input == \"q\":\n",
        "    print(\"Exit the loop\")\n",
        "    break"
      ],
      "metadata": {
        "colab": {
          "base_uri": "https://localhost:8080/"
        },
        "id": "vc57ViZx_Ijz",
        "outputId": "14a5b7d7-4c44-4d18-bcc5-ff377de11c8f"
      },
      "execution_count": null,
      "outputs": [
        {
          "output_type": "stream",
          "name": "stdout",
          "text": [
            "Enter q to exit: q\n",
            "Exit the loop\n"
          ]
        }
      ]
    },
    {
      "cell_type": "code",
      "source": [
        "for i in range(10):\n",
        "  if i == 5:\n",
        "    break\n",
        "  print(i)\n",
        "\n",
        "for i in range(10):\n",
        "  if i == 5:\n",
        "    continue\n",
        "  print(i)\n",
        "\n",
        "for i in range(10):\n",
        "  pass"
      ],
      "metadata": {
        "colab": {
          "base_uri": "https://localhost:8080/"
        },
        "id": "5A3W6qPn_blU",
        "outputId": "afa3ff4a-f7bd-4507-81af-d104873e81d8"
      },
      "execution_count": null,
      "outputs": [
        {
          "output_type": "stream",
          "name": "stdout",
          "text": [
            "0\n",
            "1\n",
            "2\n",
            "3\n",
            "4\n",
            "0\n",
            "1\n",
            "2\n",
            "3\n",
            "4\n",
            "6\n",
            "7\n",
            "8\n",
            "9\n"
          ]
        }
      ]
    },
    {
      "cell_type": "code",
      "source": [
        "#Loop inside Loop\n",
        "for i in range(3):\n",
        "  for j in range(2):\n",
        "    print(i, j)"
      ],
      "metadata": {
        "colab": {
          "base_uri": "https://localhost:8080/"
        },
        "id": "kc1fCWUl_-QE",
        "outputId": "79ef61c8-5b4c-41b0-f813-21ab25ae676c"
      },
      "execution_count": null,
      "outputs": [
        {
          "output_type": "stream",
          "name": "stdout",
          "text": [
            "0 0\n",
            "0 1\n",
            "1 0\n",
            "1 1\n",
            "2 0\n",
            "2 1\n"
          ]
        }
      ]
    },
    {
      "cell_type": "code",
      "source": [
        "for i in range(1, 6):\n",
        "  for j in range(1, 11):\n",
        "    print(f\"{i} x {j} = {i * j}\")\n",
        "  print()"
      ],
      "metadata": {
        "colab": {
          "base_uri": "https://localhost:8080/"
        },
        "id": "qNBpK1IuAb7E",
        "outputId": "e3658582-04ce-422f-f3c2-b18f96fa4209"
      },
      "execution_count": null,
      "outputs": [
        {
          "output_type": "stream",
          "name": "stdout",
          "text": [
            "1 x 1 = 1\n",
            "1 x 2 = 2\n",
            "1 x 3 = 3\n",
            "1 x 4 = 4\n",
            "1 x 5 = 5\n",
            "1 x 6 = 6\n",
            "1 x 7 = 7\n",
            "1 x 8 = 8\n",
            "1 x 9 = 9\n",
            "1 x 10 = 10\n",
            "\n",
            "2 x 1 = 2\n",
            "2 x 2 = 4\n",
            "2 x 3 = 6\n",
            "2 x 4 = 8\n",
            "2 x 5 = 10\n",
            "2 x 6 = 12\n",
            "2 x 7 = 14\n",
            "2 x 8 = 16\n",
            "2 x 9 = 18\n",
            "2 x 10 = 20\n",
            "\n",
            "3 x 1 = 3\n",
            "3 x 2 = 6\n",
            "3 x 3 = 9\n",
            "3 x 4 = 12\n",
            "3 x 5 = 15\n",
            "3 x 6 = 18\n",
            "3 x 7 = 21\n",
            "3 x 8 = 24\n",
            "3 x 9 = 27\n",
            "3 x 10 = 30\n",
            "\n",
            "4 x 1 = 4\n",
            "4 x 2 = 8\n",
            "4 x 3 = 12\n",
            "4 x 4 = 16\n",
            "4 x 5 = 20\n",
            "4 x 6 = 24\n",
            "4 x 7 = 28\n",
            "4 x 8 = 32\n",
            "4 x 9 = 36\n",
            "4 x 10 = 40\n",
            "\n",
            "5 x 1 = 5\n",
            "5 x 2 = 10\n",
            "5 x 3 = 15\n",
            "5 x 4 = 20\n",
            "5 x 5 = 25\n",
            "5 x 6 = 30\n",
            "5 x 7 = 35\n",
            "5 x 8 = 40\n",
            "5 x 9 = 45\n",
            "5 x 10 = 50\n",
            "\n"
          ]
        }
      ]
    },
    {
      "cell_type": "code",
      "source": [
        "#Loop else statement\n",
        "for i in range(5):\n",
        "  print(i)\n",
        "else:\n",
        "  print(\"Loop completed\")"
      ],
      "metadata": {
        "colab": {
          "base_uri": "https://localhost:8080/"
        },
        "id": "YY5qVZFmBEHU",
        "outputId": "5cf303d1-b207-475a-8407-487974f44a52"
      },
      "execution_count": null,
      "outputs": [
        {
          "output_type": "stream",
          "name": "stdout",
          "text": [
            "0\n",
            "1\n",
            "2\n",
            "3\n",
            "4\n",
            "Loop completed\n"
          ]
        }
      ]
    },
    {
      "cell_type": "code",
      "source": [
        "#Search Functionality\n",
        "\n",
        "nums = [1, 2, 3, 4, 5, ]\n",
        "search = 7\n",
        "\n",
        "for num in nums:\n",
        "  if num == search:\n",
        "    print(f\"Found {search}\")\n",
        "    break\n",
        "else:\n",
        "  print(f\"{search} not found\")"
      ],
      "metadata": {
        "colab": {
          "base_uri": "https://localhost:8080/"
        },
        "id": "auMSJL5lBPzD",
        "outputId": "e531dd51-e390-404d-b45d-6e5c2e59bbba"
      },
      "execution_count": null,
      "outputs": [
        {
          "output_type": "stream",
          "name": "stdout",
          "text": [
            "7 not found\n"
          ]
        }
      ]
    },
    {
      "cell_type": "code",
      "source": [
        "#Define Functions in Python Language\n",
        "def greet(name):\n",
        "  print(f\"Hello, {name} is learning Python Language\")\n",
        "\n",
        "greet(\"Umair\")"
      ],
      "metadata": {
        "colab": {
          "base_uri": "https://localhost:8080/"
        },
        "id": "s6vVMgQsB32E",
        "outputId": "25485eeb-da92-4527-c6fc-dde8246a4792"
      },
      "execution_count": null,
      "outputs": [
        {
          "output_type": "stream",
          "name": "stdout",
          "text": [
            "Hello, Umair is learning Python Language\n"
          ]
        }
      ]
    },
    {
      "cell_type": "code",
      "source": [
        "def add(a,b):\n",
        "  return a+b\n",
        "\n",
        "print(add(1,2))\n",
        "\n",
        "def display_info(name, age = 31):\n",
        "  print(f\"Name: {name}, Age: {age}\")\n",
        "\n",
        "display_info(name = \"Umair\", age = 32)"
      ],
      "metadata": {
        "colab": {
          "base_uri": "https://localhost:8080/"
        },
        "id": "kW4joI4RC8a8",
        "outputId": "c7c602e0-03a7-4795-cd7a-1d933d7d850e"
      },
      "execution_count": null,
      "outputs": [
        {
          "output_type": "stream",
          "name": "stdout",
          "text": [
            "3\n",
            "Name: Umair, Age: 32\n"
          ]
        }
      ]
    },
    {
      "cell_type": "code",
      "source": [
        "def my_function():\n",
        "  pass\n",
        "\n",
        "result = my_function()\n",
        "print(result)"
      ],
      "metadata": {
        "colab": {
          "base_uri": "https://localhost:8080/"
        },
        "id": "KLRVy9OZD521",
        "outputId": "30b8a887-f672-4348-d9c5-3323cf381e13"
      },
      "execution_count": null,
      "outputs": [
        {
          "output_type": "stream",
          "name": "stdout",
          "text": [
            "None\n"
          ]
        }
      ]
    },
    {
      "cell_type": "code",
      "source": [
        "#Arbitrary Arguments\n",
        "\n",
        "def print_arg(*args):\n",
        "  for arg in args:\n",
        "    print(arg)\n",
        "\n",
        "print_arg(1,2,3,4,5)\n",
        "\n",
        "\n",
        "#Keyword Arguments\n",
        "\n",
        "def print_kwargs(**kwargs):\n",
        "  for key, value in kwargs.items():\n",
        "    print(f\"{key}: {value}\")\n",
        "\n",
        "print_kwargs(name = \"Umair\", age = 31)"
      ],
      "metadata": {
        "colab": {
          "base_uri": "https://localhost:8080/"
        },
        "id": "_36JEuuyEHil",
        "outputId": "05a9ce8f-9792-456f-a4db-6664e3894be8"
      },
      "execution_count": null,
      "outputs": [
        {
          "output_type": "stream",
          "name": "stdout",
          "text": [
            "1\n",
            "2\n",
            "3\n",
            "4\n",
            "5\n",
            "name: Umair\n",
            "age: 31\n"
          ]
        }
      ]
    },
    {
      "cell_type": "code",
      "source": [
        "#lambda function\n",
        "#one liner function\n",
        "\n",
        "square = lambda x: x**2\n",
        "print(square(5))\n",
        "\n",
        "add = lambda x,y: x+y\n",
        "print(add(1,2))"
      ],
      "metadata": {
        "colab": {
          "base_uri": "https://localhost:8080/"
        },
        "id": "L8KNy7c3E5yV",
        "outputId": "5da8f641-1367-481c-a415-a041a483d9bd"
      },
      "execution_count": null,
      "outputs": [
        {
          "output_type": "stream",
          "name": "stdout",
          "text": [
            "25\n",
            "3\n"
          ]
        }
      ]
    },
    {
      "cell_type": "markdown",
      "source": [],
      "metadata": {
        "id": "qTyWu-Cf6_6J"
      }
    }
  ]
}