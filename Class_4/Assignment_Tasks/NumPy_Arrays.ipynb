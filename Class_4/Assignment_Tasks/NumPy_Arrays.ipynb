{
  "nbformat": 4,
  "nbformat_minor": 0,
  "metadata": {
    "colab": {
      "provenance": []
    },
    "kernelspec": {
      "name": "python3",
      "display_name": "Python 3"
    },
    "language_info": {
      "name": "python"
    }
  },
  "cells": [
    {
      "cell_type": "markdown",
      "metadata": {
        "id": "28-y9nOy_f5N"
      },
      "source": [
        "# Basic Operations with 1D and 2D NumPy Arrays"
      ]
    },
    {
      "cell_type": "code",
      "source": [
        "# Import numpy library\n",
        "import numpy as np\n",
        "# Create Global 1D and 2D arrays\n",
        "\n",
        "arr_1d = np.array([1, 2, 3, 4, 5])\n",
        "arr_2d = np.array([[1, 2, 3], [4, 5, 6], [7, 8, 9]])\n",
        "\n",
        "def basic_operations():\n",
        "  # Print 1D and 2D array outputs\n",
        "\n",
        "  print(\"1D Array:\", arr_1d)\n",
        "  print(\"2D Array:\\n\", arr_2d)\n",
        "\n",
        "  # Basic Array Operations\n",
        "\n",
        "  print(\"Sum of 1D Array:\", np.sum(arr_1d))\n",
        "  print(\"Mean of 2D Array:\", np.mean(arr_2d))\n",
        "  print(\"Transpose of 2D Array:\\n\", arr_2d.T)\n",
        "\n",
        "basic_operations()"
      ],
      "metadata": {
        "colab": {
          "base_uri": "https://localhost:8080/"
        },
        "id": "jzLlM0Jq_oP_",
        "outputId": "1f5c6858-3476-4da4-ba3e-432d72dada62"
      },
      "execution_count": 8,
      "outputs": [
        {
          "output_type": "stream",
          "name": "stdout",
          "text": [
            "1D Array: [1 2 3 4 5]\n",
            "2D Array:\n",
            " [[1 2 3]\n",
            " [4 5 6]\n",
            " [7 8 9]]\n",
            "Sum of 1D Array: 15\n",
            "Mean of 2D Array: 5.0\n",
            "Transpose of 2D Array:\n",
            " [[1 4 7]\n",
            " [2 5 8]\n",
            " [3 6 9]]\n"
          ]
        }
      ]
    }
  ]
}