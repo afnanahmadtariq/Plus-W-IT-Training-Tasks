{
  "nbformat": 4,
  "nbformat_minor": 0,
  "metadata": {
    "colab": {
      "provenance": []
    },
    "kernelspec": {
      "name": "python3",
      "display_name": "Python 3"
    },
    "language_info": {
      "name": "python"
    }
  },
  "cells": [
    {
      "cell_type": "markdown",
      "metadata": {
        "id": "28-y9nOy_f5N"
      },
      "source": [
        "# Image Processing with NumPy (Indexing & Slicing in Action)"
      ]
    },
    {
      "cell_type": "code",
      "source": [
        "import numpy as np\n",
        "\n",
        "def image_processing():\n",
        "    # Creating a grayscale image using a 2D NumPy array\n",
        "    image = np.random.randint(0, 256, (5, 5), dtype=np.uint8)\n",
        "\n",
        "    print(\"Original Image:\\n\", image)\n",
        "\n",
        "    # Slicing a portion of the image\n",
        "    cropped = image[1:4, 1:4]\n",
        "    print(\"Cropped Section:\\n\", cropped)\n",
        "\n",
        "    # Inverting colors\n",
        "    inverted_image = 255 - image\n",
        "    print(\"Inverted Image:\\n\", inverted_image)\n",
        "\n",
        "# Call the function\n",
        "image_processing()\n"
      ],
      "metadata": {
        "colab": {
          "base_uri": "https://localhost:8080/"
        },
        "id": "cb5VlmhMAJ2f",
        "outputId": "86d6f845-7045-40f9-adbe-895e4b30568e"
      },
      "execution_count": 3,
      "outputs": [
        {
          "output_type": "stream",
          "name": "stdout",
          "text": [
            "Original Image:\n",
            " [[ 31 106 171  66 114]\n",
            " [255  89  93  36 230]\n",
            " [231 206   4 164  17]\n",
            " [124  10  74  61 219]\n",
            " [240  44 121 136 121]]\n",
            "Cropped Section:\n",
            " [[ 89  93  36]\n",
            " [206   4 164]\n",
            " [ 10  74  61]]\n",
            "Inverted Image:\n",
            " [[224 149  84 189 141]\n",
            " [  0 166 162 219  25]\n",
            " [ 24  49 251  91 238]\n",
            " [131 245 181 194  36]\n",
            " [ 15 211 134 119 134]]\n"
          ]
        }
      ]
    }
  ]
}