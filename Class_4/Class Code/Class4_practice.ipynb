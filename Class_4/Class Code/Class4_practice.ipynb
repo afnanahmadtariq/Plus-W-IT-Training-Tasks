{
  "nbformat": 4,
  "nbformat_minor": 0,
  "metadata": {
    "colab": {
      "provenance": []
    },
    "kernelspec": {
      "name": "python3",
      "display_name": "Python 3"
    },
    "language_info": {
      "name": "python"
    }
  },
  "cells": [
    {
      "cell_type": "code",
      "execution_count": 5,
      "metadata": {
        "colab": {
          "base_uri": "https://localhost:8080/"
        },
        "id": "VHsUlbb05e7D",
        "outputId": "eb53988e-947c-4e3a-ae8f-cd36b49ba360"
      },
      "outputs": [
        {
          "output_type": "stream",
          "name": "stdout",
          "text": [
            "Hello, I am under the water!\n"
          ]
        }
      ],
      "source": [
        "#Function as first class objects\n",
        "\n",
        "def greet():\n",
        "  print(\"Hello, I am under the water!\")\n",
        "\n",
        "say_hello = greet\n",
        "\n",
        "say_hello()"
      ]
    },
    {
      "cell_type": "code",
      "source": [
        "# Passing func as an arguments\n",
        "def add(x,y):\n",
        "  return x + y\n",
        "\n",
        "def operate_numbers(f,a,b):\n",
        "  return f(a,b)\n",
        "\n",
        "result = operate_numbers(add,2,3)\n",
        "print(result)"
      ],
      "metadata": {
        "colab": {
          "base_uri": "https://localhost:8080/"
        },
        "id": "CJ-HQmCt6z5f",
        "outputId": "ed0a0428-97dc-4f81-b41c-47b15a1322d4"
      },
      "execution_count": 6,
      "outputs": [
        {
          "output_type": "stream",
          "name": "stdout",
          "text": [
            "5\n"
          ]
        }
      ]
    },
    {
      "cell_type": "code",
      "source": [
        "#Returning functions from other functions\n",
        "\n",
        "def multiplier(factor):\n",
        "  def multiply(num):\n",
        "    return num * factor\n",
        "  return multiply\n",
        "\n",
        "double = multiplier(2)\n",
        "triple = multiplier(3)\n",
        "\n",
        "print(double(5))\n",
        "print(triple(5))"
      ],
      "metadata": {
        "colab": {
          "base_uri": "https://localhost:8080/"
        },
        "id": "FS_MLDeF7wKg",
        "outputId": "1b6ef912-e14e-4091-c554-1b51443cc6cc"
      },
      "execution_count": 8,
      "outputs": [
        {
          "output_type": "stream",
          "name": "stdout",
          "text": [
            "10\n",
            "15\n"
          ]
        }
      ]
    },
    {
      "cell_type": "code",
      "source": [
        "# recursive function\n",
        "\n",
        "def factorial(n):\n",
        "  if n == 0:\n",
        "    return 1\n",
        "  else:\n",
        "    return n * factorial(n-1)\n",
        "\n",
        "print(factorial(5))"
      ],
      "metadata": {
        "colab": {
          "base_uri": "https://localhost:8080/"
        },
        "id": "6YYRTjai74QX",
        "outputId": "ca8e359e-b550-4db7-928a-7813adb1af2f"
      },
      "execution_count": 9,
      "outputs": [
        {
          "output_type": "stream",
          "name": "stdout",
          "text": [
            "120\n"
          ]
        }
      ]
    },
    {
      "cell_type": "code",
      "source": [
        "#Doc strings\n",
        "\n",
        "def calculator(values):\n",
        "  \"\"\"This is a calculator function\"\"\"\n",
        "  pass\n",
        "\n"
      ],
      "metadata": {
        "id": "6WpOsinV9NRQ"
      },
      "execution_count": 11,
      "outputs": []
    },
    {
      "cell_type": "code",
      "source": [
        "help(calculator)"
      ],
      "metadata": {
        "colab": {
          "base_uri": "https://localhost:8080/"
        },
        "id": "kfRnlBc39pRA",
        "outputId": "f8039df0-4b22-4108-b930-892fed9a1304"
      },
      "execution_count": 13,
      "outputs": [
        {
          "output_type": "stream",
          "name": "stdout",
          "text": [
            "Help on function calculator in module __main__:\n",
            "\n",
            "calculator(values)\n",
            "    This is a calculator function\n",
            "\n"
          ]
        }
      ]
    },
    {
      "cell_type": "code",
      "source": [
        "#local and global variables\n",
        "\n",
        "#local variable\n",
        "\n",
        "def calculator():\n",
        "  a = 10\n",
        "  b = 20\n",
        "  print(\"Addition of two numbers are:\", a+b)\n",
        "\n",
        "calculator()"
      ],
      "metadata": {
        "colab": {
          "base_uri": "https://localhost:8080/"
        },
        "id": "tqkjWEs492AH",
        "outputId": "f8db758e-504b-4b36-c729-340733294f86"
      },
      "execution_count": 15,
      "outputs": [
        {
          "output_type": "stream",
          "name": "stdout",
          "text": [
            "Addition of two numbers are: 30\n"
          ]
        }
      ]
    },
    {
      "cell_type": "code",
      "source": [
        "#Global variable\n",
        "a = 10\n",
        "b = 20\n",
        "def calculator():\n",
        "  global a\n",
        "  a = 20\n",
        "  print(f\"Addition of two numbers are: {a+b}\" )\n",
        "\n",
        "calculator()"
      ],
      "metadata": {
        "colab": {
          "base_uri": "https://localhost:8080/"
        },
        "id": "MSVMvpwq---Q",
        "outputId": "ff6ea600-839f-4564-c430-4d9e23912f07"
      },
      "execution_count": 20,
      "outputs": [
        {
          "output_type": "stream",
          "name": "stdout",
          "text": [
            "Addition of two numbers are: 40\n"
          ]
        }
      ]
    },
    {
      "cell_type": "code",
      "source": [
        "def outer():\n",
        "  x = 5\n",
        "  def inner():\n",
        "    nonlocal x\n",
        "    x = 10\n",
        "    print(\"Inner function:\", x)\n",
        "  inner()\n",
        "  print(\"Outer function x value is:\", x)\n",
        "\n",
        "outer()"
      ],
      "metadata": {
        "colab": {
          "base_uri": "https://localhost:8080/"
        },
        "id": "YZlxR6ZN_mKJ",
        "outputId": "41e73dd6-cf06-4604-9758-d9420e38852d"
      },
      "execution_count": 22,
      "outputs": [
        {
          "output_type": "stream",
          "name": "stdout",
          "text": [
            "Inner function: 10\n",
            "Outer function x value is: 10\n"
          ]
        }
      ]
    },
    {
      "cell_type": "code",
      "source": [
        "pip install numpy"
      ],
      "metadata": {
        "colab": {
          "base_uri": "https://localhost:8080/"
        },
        "id": "PSk5hEsTAxfo",
        "outputId": "3302e5ba-977d-491d-a0f0-ca334d8ab18c"
      },
      "execution_count": 27,
      "outputs": [
        {
          "output_type": "stream",
          "name": "stdout",
          "text": [
            "Requirement already satisfied: numpy in /usr/local/lib/python3.11/dist-packages (1.26.4)\n"
          ]
        }
      ]
    },
    {
      "cell_type": "code",
      "source": [
        "import numpy as np"
      ],
      "metadata": {
        "id": "utEy5w9hBHgT"
      },
      "execution_count": 28,
      "outputs": []
    },
    {
      "cell_type": "code",
      "source": [
        "#python list and Numpy Array\n",
        "\n",
        "py_list = [1,2,3,4,5]\n",
        "np_array = np.array([1,2,3,4,5])\n",
        "\n",
        "print(type(py_list))\n",
        "print(type(np_array))"
      ],
      "metadata": {
        "colab": {
          "base_uri": "https://localhost:8080/"
        },
        "id": "wHFPvN5jA02I",
        "outputId": "aad7d257-2611-46c1-a8c4-0953d4ec43fe"
      },
      "execution_count": 30,
      "outputs": [
        {
          "output_type": "stream",
          "name": "stdout",
          "text": [
            "<class 'list'>\n",
            "<class 'numpy.ndarray'>\n"
          ]
        }
      ]
    },
    {
      "cell_type": "code",
      "source": [
        "#1D array\n",
        "\n",
        "arr_1d = np.array([1,2,3,4,5])\n",
        "print(arr_1d)\n",
        "\n",
        "#2D array\n",
        "arr_2d = np.array([[1,2,3], #2x3 matrix\n",
        "                   [4,5,6]])\n",
        "print(arr_2d)\n",
        "\n",
        "print(arr_2d.ndim)"
      ],
      "metadata": {
        "colab": {
          "base_uri": "https://localhost:8080/"
        },
        "id": "b0lzqiHpBKLQ",
        "outputId": "22db2d42-bc10-49b9-9cc8-4ef8e450dc9d"
      },
      "execution_count": 31,
      "outputs": [
        {
          "output_type": "stream",
          "name": "stdout",
          "text": [
            "[1 2 3 4 5]\n",
            "[[1 2 3]\n",
            " [4 5 6]]\n",
            "2\n"
          ]
        }
      ]
    },
    {
      "cell_type": "code",
      "source": [
        "#arrays filled with zeros\n",
        "zeros_array = np.zeros((2,3))\n",
        "print(zeros_array)\n",
        "\n",
        "#arrays filled with ones\n",
        "zeros_array = np.ones((2,3))\n",
        "print(zeros_array)\n",
        "\n",
        "#arrays filles with nine\n",
        "zeros_array = np.full((2,3),4)\n",
        "print(zeros_array)"
      ],
      "metadata": {
        "colab": {
          "base_uri": "https://localhost:8080/"
        },
        "id": "u9e4o1ljCUM5",
        "outputId": "6ed01fbe-e652-4019-d939-a81404ada23a"
      },
      "execution_count": 36,
      "outputs": [
        {
          "output_type": "stream",
          "name": "stdout",
          "text": [
            "[[0. 0. 0.]\n",
            " [0. 0. 0.]]\n",
            "[[1. 1. 1.]\n",
            " [1. 1. 1.]]\n",
            "[[4 4 4]\n",
            " [4 4 4]]\n"
          ]
        }
      ]
    },
    {
      "cell_type": "code",
      "source": [
        "# array filles with evenly spaced values\n",
        "\n",
        "linspace_array = np.linspace(1,10,5)\n",
        "print(linspace_array)\n",
        "\n",
        "#array filled with range of numbers\n",
        "\n",
        "range_array = np.arange(1,10,2)\n",
        "print(range_array)\n",
        "\n",
        "#[2,20,10]\n",
        "range_array = np.arange(2,20,10)\n",
        "print(range_array)\n",
        "\n"
      ],
      "metadata": {
        "colab": {
          "base_uri": "https://localhost:8080/"
        },
        "id": "0ndPF0YzDFJ6",
        "outputId": "91993c14-e5c5-4723-94fc-7ed77d683636"
      },
      "execution_count": 43,
      "outputs": [
        {
          "output_type": "stream",
          "name": "stdout",
          "text": [
            "[ 1.    3.25  5.5   7.75 10.  ]\n",
            "[1 3 5 7 9]\n",
            "[ 2 12]\n"
          ]
        }
      ]
    },
    {
      "cell_type": "code",
      "source": [
        "def array_function(a,b,c):\n",
        "  # array filles with evenly spaced values\n",
        "\n",
        "  linspace_array = np.linspace(a,b,c)\n",
        "  print(linspace_array)\n",
        "\n",
        "  #array filled with range of numbers\n",
        "\n",
        "  range_array = np.arange(a,b,c)\n",
        "  print(range_array)\n",
        "\n",
        "array_function(1,10,5)"
      ],
      "metadata": {
        "colab": {
          "base_uri": "https://localhost:8080/"
        },
        "id": "_59wOkkoEiwS",
        "outputId": "50343d93-8d2c-40da-935d-608b48d81b61"
      },
      "execution_count": 44,
      "outputs": [
        {
          "output_type": "stream",
          "name": "stdout",
          "text": [
            "[ 1.    3.25  5.5   7.75 10.  ]\n",
            "[1 6]\n"
          ]
        }
      ]
    },
    {
      "cell_type": "code",
      "source": [
        "#Create a random arrays\n",
        "\n",
        "#array b/w 0 & 1\n",
        "random_array = np.random.rand(3,3)\n",
        "print(random_array)\n",
        "\n",
        "#array b/w 1 & 99\n",
        "random_array = np.random.randint(1,100,(3,3))\n",
        "print(random_array.ndim)"
      ],
      "metadata": {
        "colab": {
          "base_uri": "https://localhost:8080/"
        },
        "id": "9pwJi_FBEpsq",
        "outputId": "2e18ac85-8720-4ef7-c29b-e5bba51cb427"
      },
      "execution_count": 48,
      "outputs": [
        {
          "output_type": "stream",
          "name": "stdout",
          "text": [
            "[[0.79158546 0.52914074 0.34482817]\n",
            " [0.20268645 0.33760979 0.4343987 ]\n",
            " [0.57899056 0.49216271 0.64227538]]\n",
            "2\n"
          ]
        }
      ]
    },
    {
      "cell_type": "code",
      "source": [
        "#Shape, Size and Dimension of array\n",
        "\n",
        "arr = np.array([[1,2,3],\n",
        "                [3,4,5]])\n",
        "\n",
        "print(arr.shape)\n",
        "print(arr.size)"
      ],
      "metadata": {
        "colab": {
          "base_uri": "https://localhost:8080/"
        },
        "id": "_nZoNULnFPhK",
        "outputId": "e948553c-3ed2-458f-a7bc-19fdf8639fb5"
      },
      "execution_count": 50,
      "outputs": [
        {
          "output_type": "stream",
          "name": "stdout",
          "text": [
            "(2, 3)\n",
            "6\n"
          ]
        }
      ]
    },
    {
      "cell_type": "code",
      "source": [
        "#reshaping the arrays\n",
        "\n",
        "arr = np.array([[1,2,3],\n",
        "                [3,4,5]])\n",
        "\n",
        "arr_reshaped = arr.reshape((3,2))\n",
        "print(arr_reshaped)\n"
      ],
      "metadata": {
        "colab": {
          "base_uri": "https://localhost:8080/"
        },
        "id": "wNNCwK4gF_dr",
        "outputId": "58e0aea8-34e9-4814-999d-75c1e35e50ca"
      },
      "execution_count": 51,
      "outputs": [
        {
          "output_type": "stream",
          "name": "stdout",
          "text": [
            "[[1 2]\n",
            " [3 3]\n",
            " [4 5]]\n"
          ]
        }
      ]
    },
    {
      "cell_type": "code",
      "source": [
        "arr1 = np.array([1,2,3])\n",
        "\n",
        "arr2 = np.array([4,5,6])\n",
        "\n",
        "print(arr1 + arr2)\n"
      ],
      "metadata": {
        "colab": {
          "base_uri": "https://localhost:8080/"
        },
        "id": "L6cVKoBRGLd7",
        "outputId": "40acfe9f-08e3-41ca-8b5b-cf26578d09d2"
      },
      "execution_count": 52,
      "outputs": [
        {
          "output_type": "stream",
          "name": "stdout",
          "text": [
            "[5 7 9]\n"
          ]
        }
      ]
    },
    {
      "cell_type": "code",
      "source": [
        "#min, max, sum\n",
        "\n",
        "arr = np.array([[1,2,3],\n",
        "                [3,4,5]])\n",
        "\n",
        "print(np.max(arr))\n",
        "print(np.min(arr))\n",
        "print(np.sum(arr))"
      ],
      "metadata": {
        "colab": {
          "base_uri": "https://localhost:8080/"
        },
        "id": "xxb4s0NuGec7",
        "outputId": "497976e3-0dc5-4c9b-f6aa-a189b9b09865"
      },
      "execution_count": 59,
      "outputs": [
        {
          "output_type": "stream",
          "name": "stdout",
          "text": [
            "5\n",
            "1\n",
            "18\n"
          ]
        }
      ]
    },
    {
      "cell_type": "code",
      "source": [
        "#array indexing\n",
        "\n",
        "arr = np.array([1,2,3,4,5])\n",
        "\n",
        "print(arr[0])"
      ],
      "metadata": {
        "colab": {
          "base_uri": "https://localhost:8080/"
        },
        "id": "4YJSBhUUHKIC",
        "outputId": "631fec87-1051-450e-c066-0806046e7cb7"
      },
      "execution_count": 60,
      "outputs": [
        {
          "output_type": "stream",
          "name": "stdout",
          "text": [
            "1\n"
          ]
        }
      ]
    },
    {
      "cell_type": "code",
      "source": [
        "#array indexing\n",
        "\n",
        "arr = np.array([[1,2,3],\n",
        "                [3,4,5]])\n",
        "\n",
        "print(arr[-1,-1])"
      ],
      "metadata": {
        "colab": {
          "base_uri": "https://localhost:8080/"
        },
        "id": "gXoZoLsuHU7F",
        "outputId": "c9d63a47-b519-4244-b08c-83c59b0997b8"
      },
      "execution_count": 64,
      "outputs": [
        {
          "output_type": "stream",
          "name": "stdout",
          "text": [
            "5\n"
          ]
        }
      ]
    },
    {
      "cell_type": "code",
      "source": [
        "#slicing concept\n",
        "\n",
        "arr1 = np.array([1,2,3,4,5])\n",
        "\n",
        "print(arr1[::-1])\n",
        "\n",
        "arr2 = np.array([[1,2,3],\n",
        "                 [3,4,5],\n",
        "                 [4,5,6]])\n",
        "\n",
        "print(arr2[::-1,::-1])"
      ],
      "metadata": {
        "colab": {
          "base_uri": "https://localhost:8080/"
        },
        "id": "bW2ijao_HzRk",
        "outputId": "cb4b80ce-a3a3-4a21-eb99-cadc93283e2b"
      },
      "execution_count": 80,
      "outputs": [
        {
          "output_type": "stream",
          "name": "stdout",
          "text": [
            "[5 4 3 2 1]\n",
            "[[6 5 4]\n",
            " [5 4 3]\n",
            " [3 2 1]]\n"
          ]
        }
      ]
    },
    {
      "cell_type": "code",
      "source": [
        "#conditional filtering\n",
        "arr1 = np.array([1,2,3,4,5])\n",
        "result = np.where(arr1 > 2)\n",
        "print(result)\n",
        "\n",
        "print(arr1[arr1 > 2])"
      ],
      "metadata": {
        "colab": {
          "base_uri": "https://localhost:8080/"
        },
        "id": "sBtuPbHXIviC",
        "outputId": "b5b5bf5c-c31d-4b48-f3f3-711a9cac881b"
      },
      "execution_count": 81,
      "outputs": [
        {
          "output_type": "stream",
          "name": "stdout",
          "text": [
            "(array([2, 3, 4]),)\n",
            "[3 4 5]\n"
          ]
        }
      ]
    },
    {
      "cell_type": "code",
      "source": [
        "#np.take()\n",
        "\n",
        "arr1 = np.array([1,2,3,4,5])\n",
        "result = np.take(arr1, [0,2,4])\n",
        "print(result)\n",
        "\n",
        "np.put(arr1, [0,1], [10,20])\n",
        "\n",
        "print(arr1)"
      ],
      "metadata": {
        "colab": {
          "base_uri": "https://localhost:8080/"
        },
        "id": "OHMDmmecI5lj",
        "outputId": "8cbe7c73-9752-42e7-d7ab-07caccda2693"
      },
      "execution_count": 83,
      "outputs": [
        {
          "output_type": "stream",
          "name": "stdout",
          "text": [
            "[1 3 5]\n",
            "[10 20  3  4  5]\n"
          ]
        }
      ]
    }
  ]
}