{
  "nbformat": 4,
  "nbformat_minor": 0,
  "metadata": {
    "colab": {
      "provenance": []
    },
    "kernelspec": {
      "name": "python3",
      "display_name": "Python 3"
    },
    "language_info": {
      "name": "python"
    }
  },
  "cells": [
    {
      "cell_type": "code",
      "execution_count": 2,
      "metadata": {
        "colab": {
          "base_uri": "https://localhost:8080/"
        },
        "id": "538cl09TLtpc",
        "outputId": "dcf64752-3f74-4e8c-8b54-e0024a59c1a2"
      },
      "outputs": [
        {
          "output_type": "stream",
          "name": "stdout",
          "text": [
            "Moved file: csv_files/empty3.csv\n",
            "Moved file: csv_files/empty4.csv\n",
            "Moved file: csv_files/empty1.csv\n",
            "Moved file: csv_files/empty2.csv\n",
            "Data exported to output.csv in CSV format.\n",
            "Data exported to output.json in JSON format.\n"
          ]
        }
      ],
      "source": [
        "import os\n",
        "import glob\n",
        "import shutil\n",
        "import pandas as pd\n",
        "\n",
        "# Move all CSV files to a backup folder\n",
        "csv_files = glob.glob(\"csv_files/*.csv\")\n",
        "for file in csv_files:\n",
        "    shutil.move(file, \"backup_folder/\")\n",
        "    print(f\"Moved file: {file}\")\n",
        "\n",
        "# Automating Export\n",
        "def export_data(df, filename, format):\n",
        "    if format == \"csv\":\n",
        "        df.to_csv(filename, index=False)\n",
        "        print(f\"Data exported to {filename} in CSV format.\")\n",
        "    elif format == \"json\":\n",
        "        df.to_json(filename, orient=\"records\")\n",
        "        print(f\"Data exported to {filename} in JSON format.\")\n",
        "    else:\n",
        "        print(\"Unsupported format.\")\n",
        "\n",
        "# Example usage:\n",
        "# Creating a sample dataframe\n",
        "data = {'Name': ['Alice', 'Bob', 'Charlie'],\n",
        "        'Age': [25, 30, 35],\n",
        "        'City': ['New York', 'Los Angeles', 'Chicago']}\n",
        "\n",
        "df = pd.DataFrame(data)\n",
        "\n",
        "# Exporting to CSV\n",
        "export_data(df, \"output.csv\", \"csv\")\n",
        "\n",
        "# Exporting to JSON\n",
        "export_data(df, \"output.json\", \"json\")"
      ]
    }
  ]
}