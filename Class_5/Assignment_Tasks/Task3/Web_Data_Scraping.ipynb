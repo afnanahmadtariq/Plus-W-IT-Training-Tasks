{
  "nbformat": 4,
  "nbformat_minor": 0,
  "metadata": {
    "colab": {
      "provenance": []
    },
    "kernelspec": {
      "name": "python3",
      "display_name": "Python 3"
    },
    "language_info": {
      "name": "python"
    }
  },
  "cells": [
    {
      "cell_type": "code",
      "execution_count": 8,
      "metadata": {
        "colab": {
          "base_uri": "https://localhost:8080/"
        },
        "id": "8PBPPfOPTriD",
        "outputId": "9d0cdbcd-bda0-43cc-be25-e02a2c8fdeab"
      },
      "outputs": [
        {
          "output_type": "stream",
          "name": "stdout",
          "text": [
            "                                               Quote             Author  \\\n",
            "0  “The world as we have created it is a process ...    Albert Einstein   \n",
            "1  “It is our choices, Harry, that show what we t...       J.K. Rowling   \n",
            "2  “There are only two ways to live your life. On...    Albert Einstein   \n",
            "3  “The person, be it gentleman or lady, who has ...        Jane Austen   \n",
            "4  “Imperfection is beauty, madness is genius and...     Marilyn Monroe   \n",
            "5  “Try not to become a man of success. Rather be...    Albert Einstein   \n",
            "6  “It is better to be hated for what you are tha...         André Gide   \n",
            "7  “I have not failed. I've just found 10,000 way...   Thomas A. Edison   \n",
            "8  “A woman is like a tea bag; you never know how...  Eleanor Roosevelt   \n",
            "9  “A day without sunshine is like, you know, nig...       Steve Martin   \n",
            "\n",
            "                                             Tags  \n",
            "0        [change, deep-thoughts, thinking, world]  \n",
            "1                            [abilities, choices]  \n",
            "2  [inspirational, life, live, miracle, miracles]  \n",
            "3              [aliteracy, books, classic, humor]  \n",
            "4                    [be-yourself, inspirational]  \n",
            "5                     [adulthood, success, value]  \n",
            "6                                    [life, love]  \n",
            "7   [edison, failure, inspirational, paraphrased]  \n",
            "8               [misattributed-eleanor-roosevelt]  \n",
            "9                        [humor, obvious, simile]  \n",
            "Data saved to quotes.csv\n"
          ]
        }
      ],
      "source": [
        "import requests\n",
        "from bs4 import BeautifulSoup\n",
        "import pandas as pd\n",
        "\n",
        "# URL of the website to scrape\n",
        "URL = \"http://quotes.toscrape.com/\"\n",
        "HEADERS = {\"User-Agent\": \"Mozilla/5.0\"}\n",
        "\n",
        "def get_quotes(url):\n",
        "    response = requests.get(url, headers=HEADERS)\n",
        "    soup = BeautifulSoup(response.text, \"html.parser\")\n",
        "\n",
        "    # Find all quote containers on the page\n",
        "    quotes = soup.find_all(\"div\", class_=\"quote\")\n",
        "    quotes_list = []\n",
        "\n",
        "    for quote in quotes:\n",
        "        text = quote.find(\"span\", class_=\"text\").text.strip()\n",
        "        author = quote.find(\"small\", class_=\"author\").text.strip()\n",
        "        # Collect all tags associated with the quote\n",
        "        tags = [tag.text.strip() for tag in quote.find_all(\"a\", class_=\"tag\")]\n",
        "\n",
        "        quotes_list.append({\"Quote\": text, \"Author\": author, \"Tags\": tags})\n",
        "\n",
        "    return quotes_list\n",
        "\n",
        "quotes_data = get_quotes(URL)\n",
        "df = pd.DataFrame(quotes_data)\n",
        "\n",
        "# Print the DataFrame to console\n",
        "print(df)\n",
        "\n",
        "# Save data to CSV\n",
        "df.to_csv(\"quotes.csv\", index=False)\n",
        "print(\"Data saved to quotes.csv\")\n"
      ]
    }
  ]
}