{
  "cells": [
    {
      "cell_type": "markdown",
      "metadata": {
        "id": "_4q8WUpsATxM"
      },
      "source": [
        "# Dot Product"
      ]
    },
    {
      "cell_type": "code",
      "execution_count": null,
      "metadata": {
        "colab": {
          "base_uri": "https://localhost:8080/"
        },
        "id": "NjhoIAhZ9Bmw",
        "outputId": "eb522302-de93-4d08-c3ba-5f99071424a2"
      },
      "outputs": [
        {
          "name": "stdout",
          "output_type": "stream",
          "text": [
            "32\n"
          ]
        }
      ],
      "source": [
        "# vector product\n",
        "\n",
        "import numpy as np\n",
        "\n",
        "a = np.array([1, 2, 3])\n",
        "b = np.array([4, 5, 6])\n",
        "\n",
        "dot = np.dot(a, b)\n",
        "print(dot)"
      ]
    },
    {
      "cell_type": "markdown",
      "metadata": {
        "id": "wdnTj879AXak"
      },
      "source": [
        "# Cross Product"
      ]
    },
    {
      "cell_type": "code",
      "execution_count": null,
      "metadata": {
        "colab": {
          "base_uri": "https://localhost:8080/"
        },
        "id": "kIt2LMM_-Hj1",
        "outputId": "aeaa8083-4b59-4394-cf1e-dd1c9c1a955f"
      },
      "outputs": [
        {
          "name": "stdout",
          "output_type": "stream",
          "text": [
            "[-3  6 -3]\n"
          ]
        }
      ],
      "source": [
        "import numpy as np\n",
        "\n",
        "a = np.array([1, 2, 3])\n",
        "b = np.array([4, 5, 6])\n",
        "\n",
        "cross = np.cross(a, b)\n",
        "print(cross)"
      ]
    },
    {
      "cell_type": "markdown",
      "metadata": {
        "id": "SeZpGWMLAal8"
      },
      "source": [
        "# magnitude of vector"
      ]
    },
    {
      "cell_type": "code",
      "execution_count": null,
      "metadata": {
        "colab": {
          "base_uri": "https://localhost:8080/"
        },
        "id": "faWuj2WY-yP0",
        "outputId": "18e395d5-398d-4ff3-de89-d2ee1c2ca523"
      },
      "outputs": [
        {
          "name": "stdout",
          "output_type": "stream",
          "text": [
            "3.7416573867739413\n"
          ]
        }
      ],
      "source": [
        "a = np.array([1, 2, 3])\n",
        "\n",
        "mag = np.linalg.norm(a)\n",
        "print(mag)"
      ]
    },
    {
      "cell_type": "markdown",
      "metadata": {
        "id": "ixITEJCeAe8c"
      },
      "source": [
        "# Matrix Multiplication"
      ]
    },
    {
      "cell_type": "code",
      "execution_count": null,
      "metadata": {
        "colab": {
          "base_uri": "https://localhost:8080/"
        },
        "id": "KyUUBRA5_YH1",
        "outputId": "0a943677-f2a8-49f7-882d-10c327880efb"
      },
      "outputs": [
        {
          "name": "stdout",
          "output_type": "stream",
          "text": [
            "32\n",
            "32\n"
          ]
        }
      ],
      "source": [
        "a = np.array([1, 2, 3])\n",
        "b = np.array([4, 5, 6])\n",
        "\n",
        "result_mult = a@b\n",
        "print(result_mult)\n",
        "\n",
        "result1_mult = np.matmul(a, b)\n",
        "print(result1_mult)"
      ]
    },
    {
      "cell_type": "markdown",
      "metadata": {
        "id": "AfwtSb1AAhbk"
      },
      "source": [
        "# Transpose of matrix"
      ]
    },
    {
      "cell_type": "code",
      "execution_count": null,
      "metadata": {
        "colab": {
          "base_uri": "https://localhost:8080/"
        },
        "id": "gyD1KdGl_1he",
        "outputId": "741dba92-caad-4880-9824-e29ab6ab4a05"
      },
      "outputs": [
        {
          "name": "stdout",
          "output_type": "stream",
          "text": [
            "[[1 4]\n",
            " [2 5]\n",
            " [3 6]]\n"
          ]
        }
      ],
      "source": [
        "a = np.array([[1, 2, 3], [4, 5, 6]])\n",
        "\n",
        "transpose_a = a.T\n",
        "print(transpose_a)"
      ]
    },
    {
      "cell_type": "markdown",
      "metadata": {
        "id": "7GmUmy9iAjIE"
      },
      "source": [
        "# Determinant of matrix"
      ]
    },
    {
      "cell_type": "code",
      "execution_count": null,
      "metadata": {
        "colab": {
          "base_uri": "https://localhost:8080/"
        },
        "id": "oVsaWb4uAC88",
        "outputId": "3446ba75-4fad-4486-9593-7823364b0bf1"
      },
      "outputs": [
        {
          "name": "stdout",
          "output_type": "stream",
          "text": [
            "-2.0000000000000004\n"
          ]
        }
      ],
      "source": [
        "a = np.array([[1, 2], [3, 4]])\n",
        "\n",
        "det_a = np.linalg.det(a)\n",
        "print(det_a)"
      ]
    },
    {
      "cell_type": "markdown",
      "metadata": {
        "id": "Kq8FeyrnAkal"
      },
      "source": [
        "# Inverse of the matrix"
      ]
    },
    {
      "cell_type": "code",
      "execution_count": null,
      "metadata": {
        "colab": {
          "base_uri": "https://localhost:8080/",
          "height": 106
        },
        "id": "zhFD2OmeAoqE",
        "outputId": "65d2cea1-6a5f-421a-c5c2-f5c39f903dec"
      },
      "outputs": [
        {
          "ename": "SyntaxError",
          "evalue": "invalid syntax (<ipython-input-34-6221d76cc540>, line 13)",
          "output_type": "error",
          "traceback": [
            "\u001b[0;36m  File \u001b[0;32m\"<ipython-input-34-6221d76cc540>\"\u001b[0;36m, line \u001b[0;32m13\u001b[0m\n\u001b[0;31m    for\u001b[0m\n\u001b[0m        ^\u001b[0m\n\u001b[0;31mSyntaxError\u001b[0m\u001b[0;31m:\u001b[0m invalid syntax\n"
          ]
        }
      ],
      "source": [
        "a = np.array([[1, 2], [3, 4]])\n",
        "\n",
        "inv_a = np.linalg.inv(a)\n",
        "print(inv_a)\n",
        "\n",
        "\n",
        "#define a as input and convert into func\n",
        "\n",
        "def matrix_inverse(matrix):\n",
        "    return np.linalg.inv(matrix)\n",
        "\n",
        "a = input(\"np.array([[1, 2], [3, 4]])\")\n",
        "for\n",
        "inverse_matrix = matrix_inverse(a)\n",
        "print(inverse_matrix)"
      ]
    },
    {
      "cell_type": "markdown",
      "metadata": {
        "id": "ia-QyMsvBRrM"
      },
      "source": [
        "# Eigen Values and eigen vectors"
      ]
    },
    {
      "cell_type": "code",
      "execution_count": null,
      "metadata": {
        "colab": {
          "base_uri": "https://localhost:8080/"
        },
        "id": "D0ioM4skBQlm",
        "outputId": "7e833470-d7d2-400f-c51b-f7e59fcc0747"
      },
      "outputs": [
        {
          "name": "stdout",
          "output_type": "stream",
          "text": [
            "[-0.37228132  5.37228132]\n",
            "[[-0.82456484 -0.41597356]\n",
            " [ 0.56576746 -0.90937671]]\n"
          ]
        }
      ],
      "source": [
        "a = np.array([[1, 2], [3, 4]])\n",
        "\n",
        "eigen_values, eigen_vectors = np.linalg.eig(a)\n",
        "print(eigen_values)\n",
        "print(eigen_vectors)"
      ]
    },
    {
      "cell_type": "markdown",
      "metadata": {
        "id": "yd54viinB60N"
      },
      "source": [
        "# Solving the Linear Equation"
      ]
    },
    {
      "cell_type": "code",
      "execution_count": null,
      "metadata": {
        "colab": {
          "base_uri": "https://localhost:8080/"
        },
        "id": "8WdZCO7oB1mO",
        "outputId": "7c1fadc2-f494-4557-b6dc-347c4a64cf29"
      },
      "outputs": [
        {
          "name": "stdout",
          "output_type": "stream",
          "text": [
            "[-4.   4.5]\n"
          ]
        }
      ],
      "source": [
        "a = np.array([[1, 2], [3, 4]])\n",
        "b = np.array([5, 6])\n",
        "\n",
        "solution = np.linalg.solve(a, b) #Ax = b\n",
        "print(solution)"
      ]
    },
    {
      "cell_type": "markdown",
      "metadata": {
        "id": "HwNmtGxxCXiV"
      },
      "source": [
        "# Concatenate"
      ]
    },
    {
      "cell_type": "code",
      "execution_count": null,
      "metadata": {
        "colab": {
          "base_uri": "https://localhost:8080/"
        },
        "id": "jflcIFTkCXC2",
        "outputId": "f16ece2a-9028-4284-acb7-40761c49f857"
      },
      "outputs": [
        {
          "name": "stdout",
          "output_type": "stream",
          "text": [
            "[1 2 3 4 5 6]\n"
          ]
        }
      ],
      "source": [
        "a = np.array([1, 2, 3])\n",
        "b = np.array([4, 5, 6])\n",
        "\n",
        "c = np.concatenate((a, b))\n",
        "print(c)"
      ]
    },
    {
      "cell_type": "markdown",
      "metadata": {
        "id": "zO5zrBsjCqr1"
      },
      "source": [
        "# Vertical Stacking"
      ]
    },
    {
      "cell_type": "code",
      "execution_count": null,
      "metadata": {
        "colab": {
          "base_uri": "https://localhost:8080/"
        },
        "id": "mdP_-j_jCp9m",
        "outputId": "7b5fa8db-c2cb-46a0-912f-9fd73eeba3b5"
      },
      "outputs": [
        {
          "name": "stdout",
          "output_type": "stream",
          "text": [
            "[[1 2 3]\n",
            " [4 5 6]]\n",
            "2\n"
          ]
        }
      ],
      "source": [
        "a = np.array([1, 2, 3])\n",
        "b = np.array([4, 5, 6])\n",
        "c = np.vstack((a, b))\n",
        "print(c)\n",
        "print(c.ndim)"
      ]
    },
    {
      "cell_type": "markdown",
      "metadata": {
        "id": "FkD2dws6DA-1"
      },
      "source": [
        "# Horizontal Stacking"
      ]
    },
    {
      "cell_type": "code",
      "execution_count": null,
      "metadata": {
        "colab": {
          "base_uri": "https://localhost:8080/"
        },
        "id": "i3dctNIpDASn",
        "outputId": "bcbfad4d-b0bb-4b2a-bfdb-d4f750ad7e49"
      },
      "outputs": [
        {
          "name": "stdout",
          "output_type": "stream",
          "text": [
            "[1 2 3 4 5 6]\n",
            "1\n"
          ]
        }
      ],
      "source": [
        "a = np.array([1, 2, 3])\n",
        "b = np.array([4, 5, 6])\n",
        "c = np.hstack((a, b))\n",
        "print(c)\n",
        "print(c.ndim)"
      ]
    },
    {
      "cell_type": "markdown",
      "metadata": {
        "id": "gtp_lWMrDUd9"
      },
      "source": [
        "# Depth Stacking"
      ]
    },
    {
      "cell_type": "code",
      "execution_count": null,
      "metadata": {
        "colab": {
          "base_uri": "https://localhost:8080/"
        },
        "id": "fkujeBkJDT8t",
        "outputId": "680ef999-5def-41c3-d541-6161abd70e6f"
      },
      "outputs": [
        {
          "name": "stdout",
          "output_type": "stream",
          "text": [
            "[[[1 4]\n",
            "  [2 5]]\n",
            "\n",
            " [[3 6]\n",
            "  [4 7]]]\n",
            "3\n"
          ]
        }
      ],
      "source": [
        "a = np.array([[1, 2], [3, 4]])\n",
        "b = np.array([[4, 5], [6, 7]])\n",
        "c = np.dstack((a, b))\n",
        "print(c)\n",
        "print(c.ndim)"
      ]
    },
    {
      "cell_type": "markdown",
      "metadata": {
        "id": "buE8TKO3EBXe"
      },
      "source": [
        "# Splitting arrays"
      ]
    },
    {
      "cell_type": "code",
      "execution_count": null,
      "metadata": {
        "colab": {
          "base_uri": "https://localhost:8080/"
        },
        "id": "APIvVnNZEBAX",
        "outputId": "409446eb-55d4-40cd-8531-cafe17287915"
      },
      "outputs": [
        {
          "name": "stdout",
          "output_type": "stream",
          "text": [
            "[array([1, 2]), array([3, 4]), array([5, 6])]\n",
            "[array([[1, 2]]), array([[3, 4]]), array([[5, 6]])]\n",
            "[array([[1],\n",
            "       [3],\n",
            "       [5]]), array([[2],\n",
            "       [4],\n",
            "       [6]])]\n"
          ]
        }
      ],
      "source": [
        "arr = np.array([1, 2, 3, 4, 5, 6])\n",
        "\n",
        "split = np.split(arr, 3)\n",
        "\n",
        "print(split)\n",
        "\n",
        "#vertical split (row wise adjustment)\n",
        "a = np.array([[1, 2], [3, 4], [5, 6]])\n",
        "\n",
        "v_split = np.vsplit(a, 3)\n",
        "print(v_split)\n",
        "\n",
        "#horizontal split (column wise adjustment)\n",
        "a = np.array([[1, 2], [3, 4], [5, 6]])\n",
        "\n",
        "h_split = np.hsplit(a, 2)\n",
        "print(h_split)"
      ]
    },
    {
      "cell_type": "markdown",
      "metadata": {
        "id": "fbycceNvFjXV"
      },
      "source": [
        "# tiling and repeating"
      ]
    },
    {
      "cell_type": "code",
      "execution_count": null,
      "metadata": {
        "colab": {
          "base_uri": "https://localhost:8080/"
        },
        "id": "r9Q4LLrJFROv",
        "outputId": "f7be19bb-73af-488b-f8ee-164d9fc657e3"
      },
      "outputs": [
        {
          "name": "stdout",
          "output_type": "stream",
          "text": [
            "[[1 2 3 1 2 3 1 2 3]\n",
            " [1 2 3 1 2 3 1 2 3]]\n",
            "[1 1 1 2 2 2 3 3 3 4 4 4]\n"
          ]
        }
      ],
      "source": [
        "x = np.array([1, 2, 3])\n",
        "tile = np.tile(x, (2, 3))\n",
        "print(tile)\n",
        "\n",
        "x = np.array([[1, 2], [3, 4]])\n",
        "repeat = np.repeat(x, 3)\n",
        "print(repeat)"
      ]
    },
    {
      "cell_type": "markdown",
      "metadata": {
        "id": "W47MJa0PF4ku"
      },
      "source": [
        "# Pandas Library"
      ]
    },
    {
      "cell_type": "code",
      "execution_count": null,
      "metadata": {
        "colab": {
          "base_uri": "https://localhost:8080/"
        },
        "id": "BEgZbIUAFtIP",
        "outputId": "36b28e68-4c58-45b1-d4cd-eb0d3acfe9f6"
      },
      "outputs": [
        {
          "name": "stdout",
          "output_type": "stream",
          "text": [
            "    Username   Identifier First name Last name\n",
            "0   booker12         9012     Rachel    Booker\n",
            "1     grey07         2070      Laura      Grey\n",
            "2  johnson81         4081      Craig   Johnson\n",
            "3  jenkins46         9346       Mary   Jenkins\n",
            "4    smith79         5079      Jamie     Smith\n"
          ]
        }
      ],
      "source": [
        "import pandas as pd\n",
        "\n",
        "df = pd.read_csv('data.csv', delimiter=';')\n",
        "print(df)"
      ]
    },
    {
      "cell_type": "code",
      "execution_count": null,
      "metadata": {
        "colab": {
          "base_uri": "https://localhost:8080/"
        },
        "id": "3XeGRB6ZHBBo",
        "outputId": "f887029d-025a-4cfe-9526-b3d6f5ecc9d1"
      },
      "outputs": [
        {
          "name": "stdout",
          "output_type": "stream",
          "text": [
            "   0 First Name  Last Name  Gender        Country  Age        Date    Id\n",
            "0  1      Dulce      Abril  Female  United States   32  15/10/2017  1562\n",
            "1  2       Mara  Hashimoto  Female  Great Britain   25  16/08/2016  1582\n",
            "2  3     Philip       Gent    Male         France   36  21/05/2015  2587\n",
            "3  4   Kathleen     Hanner  Female  United States   25  15/10/2017  3549\n",
            "4  5    Nereida    Magwood  Female  United States   58  16/08/2016  2468\n",
            "5  6     Gaston      Brumm    Male  United States   24  21/05/2015  2554\n",
            "6  7       Etta       Hurn  Female  Great Britain   56  15/10/2017  3598\n",
            "7  8    Earlean     Melgar  Female  United States   27  16/08/2016  2456\n",
            "8  9   Vincenza    Weiland  Female  United States   40  21/05/2015  6548\n"
          ]
        }
      ],
      "source": [
        "df_excel = pd.read_excel('data.xls')\n",
        "print(df_excel)"
      ]
    },
    {
      "cell_type": "code",
      "execution_count": null,
      "metadata": {
        "colab": {
          "base_uri": "https://localhost:8080/"
        },
        "id": "mgxGc5SIHMfv",
        "outputId": "d8deec2b-1df1-4d6b-c6ba-6da2c8da9c87"
      },
      "outputs": [
        {
          "name": "stdout",
          "output_type": "stream",
          "text": [
            "                                                    menu\n",
            "id                                                  file\n",
            "value                                               File\n",
            "popup  {'menuitem': [{'value': 'New', 'onclick': 'Cre...\n"
          ]
        }
      ],
      "source": [
        "import json\n",
        "\n",
        "df_json = pd.read_json('data.json')\n",
        "print(df_json)"
      ]
    },
    {
      "cell_type": "code",
      "execution_count": null,
      "metadata": {
        "colab": {
          "base_uri": "https://localhost:8080/"
        },
        "id": "xCLpEV5xHVAv",
        "outputId": "c8a4a90d-1af1-4665-b230-a33a5d9cd489"
      },
      "outputs": [
        {
          "name": "stdout",
          "output_type": "stream",
          "text": [
            "   part_id       part_name  manufacture_plant_id manufacture_start_date  \\\n",
            "0        1     2.6L Engine                     1             2012-08-12   \n",
            "1        2     3.0L Engine                     2             2012-07-10   \n",
            "2        3     2.4L Engine                     5             2012-08-12   \n",
            "3        4  Jetrag 6 Speed                     5             2012-02-11   \n",
            "4        5      Bose Audio                     1             2014-08-02   \n",
            "5        6     4WD Chassis                     2             2000-08-29   \n",
            "6        7     2WD Chassis                     2             2005-12-20   \n",
            "\n",
            "  manufacture_end_date  part_recall  \n",
            "0           2013-08-12            0  \n",
            "1           2017-02-20            0  \n",
            "2           2013-08-12            0  \n",
            "3           2013-08-12            0  \n",
            "4           2015-03-12            0  \n",
            "5           2017-05-12            0  \n",
            "6           2017-11-01            0  \n"
          ]
        }
      ],
      "source": [
        "import sqlite3\n",
        "\n",
        "conn = sqlite3.connect('Car_Database')\n",
        "df_sqlite = pd.read_sql_query('SELECT * FROM Car_Parts', conn)\n",
        "print(df_sqlite)"
      ]
    },
    {
      "cell_type": "code",
      "execution_count": null,
      "metadata": {
        "colab": {
          "base_uri": "https://localhost:8080/"
        },
        "id": "3cTMGwnGH4Rw",
        "outputId": "b790f95c-9346-46d9-fc28-b0cdaacab245"
      },
      "outputs": [
        {
          "name": "stdout",
          "output_type": "stream",
          "text": [
            "    Username   Identifier First name Last name\n",
            "0   booker12         9012     Rachel    Booker\n",
            "1     grey07         2070      Laura      Grey\n",
            "2  johnson81         4081      Craig   Johnson\n",
            "3  jenkins46         9346       Mary   Jenkins\n",
            "4    smith79         5079      Jamie     Smith\n"
          ]
        }
      ],
      "source": [
        "chunksize = 200\n",
        "\n",
        "for chunk in pd.read_csv('data.csv', delimiter=';', chunksize=chunksize):\n",
        "    print(chunk.head()) #firdt 5 rows / lines"
      ]
    },
    {
      "cell_type": "code",
      "execution_count": null,
      "metadata": {
        "colab": {
          "base_uri": "https://localhost:8080/"
        },
        "id": "gg5KmvHWIvoR",
        "outputId": "6ec2d507-5dd7-42f4-f072-20c01648f5c1"
      },
      "outputs": [
        {
          "name": "stdout",
          "output_type": "stream",
          "text": [
            "    Username   Identifier First name Last name\n",
            "0   booker12         9012     Rachel    Booker\n",
            "1     grey07         2070      Laura      Grey\n",
            "2  johnson81         4081      Craig   Johnson\n",
            "3  jenkins46         9346       Mary   Jenkins\n",
            "4    smith79         5079      Jamie     Smith\n"
          ]
        }
      ],
      "source": [
        "#optimize memory usage by converting data types\n",
        "\n",
        "df['Username'] = df['Username'].astype('category')\n",
        "\n",
        "print(df)"
      ]
    },
    {
      "cell_type": "code",
      "execution_count": null,
      "metadata": {
        "id": "QQEHkeoEJPrx"
      },
      "outputs": [],
      "source": [
        "#Save all my csv files into backup folder\n",
        "\n",
        "import os, glob, shutil\n",
        "import pandas as pd\n",
        "\n",
        "csv_files = glob.glob('*.csv')\n",
        "\n",
        "for file in csv_files:\n",
        "    shutil.copy(file, 'backup')"
      ]
    },
    {
      "cell_type": "code",
      "execution_count": null,
      "metadata": {
        "colab": {
          "base_uri": "https://localhost:8080/"
        },
        "id": "ll7ijrnxKGqJ",
        "outputId": "5e79f1bc-9162-4ddb-b3d1-de3368035938"
      },
      "outputs": [
        {
          "name": "stdout",
          "output_type": "stream",
          "text": [
            "<class 'pandas.core.frame.DataFrame'>\n",
            "RangeIndex: 3 entries, 0 to 2\n",
            "Data columns (total 3 columns):\n",
            " #   Column  Non-Null Count  Dtype \n",
            "---  ------  --------------  ----- \n",
            " 0   Name    3 non-null      object\n",
            " 1   Age     3 non-null      int64 \n",
            " 2   City    3 non-null      object\n",
            "dtypes: int64(1), object(2)\n",
            "memory usage: 204.0+ bytes\n",
            "None\n"
          ]
        }
      ],
      "source": [
        "#sample Dataframe\n",
        "\n",
        "data = {'Name': ['Alice', 'Bob', 'Charlie'],\n",
        "        'Age': [25, 30, 35],\n",
        "        'City': ['New York', 'San Francisco', 'Los Angeles']}\n",
        "\n",
        "df = pd.DataFrame(data)\n",
        "\n",
        "print(df.info())"
      ]
    },
    {
      "cell_type": "code",
      "execution_count": null,
      "metadata": {
        "colab": {
          "base_uri": "https://localhost:8080/"
        },
        "id": "SDxkotOWKVKB",
        "outputId": "13ca4487-6b5a-4de2-8ee5-7a7743496cfe"
      },
      "outputs": [
        {
          "name": "stdout",
          "output_type": "stream",
          "text": [
            "Name    object\n",
            "Age      int64\n",
            "City    object\n",
            "dtype: object\n"
          ]
        }
      ],
      "source": [
        "print(df.dtypes)"
      ]
    },
    {
      "cell_type": "code",
      "execution_count": null,
      "metadata": {
        "colab": {
          "base_uri": "https://localhost:8080/"
        },
        "id": "y_13Q6P2KfRY",
        "outputId": "60531afa-589a-450a-cc61-7ce3488dd75d"
      },
      "outputs": [
        {
          "name": "stdout",
          "output_type": "stream",
          "text": [
            "    Name  Age           City\n",
            "1    Bob   30  San Francisco\n",
            "0  Alice   25       New York\n"
          ]
        }
      ],
      "source": [
        "# print(df.head(2))\n",
        "# print(df.tail())\n",
        "print(df.sample(2))"
      ]
    },
    {
      "cell_type": "code",
      "execution_count": null,
      "metadata": {
        "colab": {
          "base_uri": "https://localhost:8080/",
          "height": 586
        },
        "id": "7WA7iP9rKzwy",
        "outputId": "30afab6a-8eb6-4c9c-8990-b36604f877df"
      },
      "outputs": [
        {
          "name": "stdout",
          "output_type": "stream",
          "text": [
            "<bound method DataFrame.sum of     Name    Age   City\n",
            "0  False  False  False\n",
            "1  False  False  False\n",
            "2  False  False  False>\n",
            "<bound method Series.sum of 0    False\n",
            "1    False\n",
            "2    False\n",
            "dtype: bool>\n",
            "Axes(0.125,0.11;0.775x0.77)\n"
          ]
        },
        {
          "data": {
            "image/png": "[encoded data removed]",
            "text/plain": [
              "<Figure size 640x480 with 1 Axes>"
            ]
          },
          "metadata": {},
          "output_type": "display_data"
        }
      ],
      "source": [
        "print(df.isnull().sum) #missing values\n",
        "print(df.duplicated().sum)\n",
        "print(df.boxplot()) #checking outliers"
      ]
    },
    {
      "cell_type": "code",
      "execution_count": null,
      "metadata": {
        "colab": {
          "base_uri": "https://localhost:8080/"
        },
        "id": "uTaCbn2ULHnx",
        "outputId": "44d30c0d-65cd-400c-f703-b1647f78a617"
      },
      "outputs": [
        {
          "name": "stdout",
          "output_type": "stream",
          "text": [
            "      Name  Age           City\n",
            "0    Alice   25       New York\n",
            "1      Bob   30  San Francisco\n",
            "2  Charlie   35    Los Angeles\n",
            "      Name  Age           City\n",
            "0    Alice   25       New York\n",
            "1      Bob   30  San Francisco\n",
            "2  Charlie   35    Los Angeles\n"
          ]
        }
      ],
      "source": [
        "print(df.dropna()) #remove missing values\n",
        "df_filled = df.fillna(0) #to fill missing values\n",
        "\n",
        "print(df_filled)"
      ]
    },
    {
      "cell_type": "code",
      "execution_count": null,
      "metadata": {
        "colab": {
          "base_uri": "https://localhost:8080/"
        },
        "id": "BJX-NLpqLwjR",
        "outputId": "f3f2cb1f-2c96-48d4-d16d-9386f61467f6"
      },
      "outputs": [
        {
          "name": "stdout",
          "output_type": "stream",
          "text": [
            "<bound method DataFrame.corr of       Name  Age           City\n",
            "0    Alice   25       New York\n",
            "1      Bob   30  San Francisco\n",
            "2  Charlie   35    Los Angeles>\n"
          ]
        }
      ],
      "source": [
        "print(df.corr)"
      ]
    },
    {
      "cell_type": "code",
      "execution_count": null,
      "metadata": {
        "colab": {
          "base_uri": "https://localhost:8080/"
        },
        "id": "7G23M-KXLpCJ",
        "outputId": "f023df74-ba60-403c-942c-d8394fbb9056"
      },
      "outputs": [
        {
          "name": "stdout",
          "output_type": "stream",
          "text": [
            "City\n",
            "Los Angeles      35.0\n",
            "New York         25.0\n",
            "San Francisco    30.0\n",
            "Name: Age, dtype: float64\n"
          ]
        }
      ],
      "source": [
        "print(df.groupby('City')['Age'].mean())"
      ]
    }
  ],
  "metadata": {
    "colab": {
      "provenance": []
    },
    "kernelspec": {
      "display_name": "Python 3",
      "name": "python3"
    },
    "language_info": {
      "name": "python"
    }
  },
  "nbformat": 4,
  "nbformat_minor": 0
}
