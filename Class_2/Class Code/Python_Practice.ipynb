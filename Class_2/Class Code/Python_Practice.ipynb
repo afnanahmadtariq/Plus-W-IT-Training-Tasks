{
  "nbformat": 4,
  "nbformat_minor": 0,
  "metadata": {
    "colab": {
      "provenance": []
    },
    "kernelspec": {
      "name": "python3",
      "display_name": "Python 3"
    },
    "language_info": {
      "name": "python"
    }
  },
  "cells": [
    {
      "cell_type": "code",
      "execution_count": 1,
      "metadata": {
        "id": "IJTsCCMeKL6Y",
        "colab": {
          "base_uri": "https://localhost:8080/"
        },
        "outputId": "6d42f74d-c5c8-4418-94cc-ec0fddba9b20"
      },
      "outputs": [
        {
          "output_type": "stream",
          "name": "stdout",
          "text": [
            "Python indentation is important!\n"
          ]
        }
      ],
      "source": [
        "# Indentation\n",
        "if 5 > 3:\n",
        "    print(\"Python indentation is important!\")"
      ]
    },
    {
      "cell_type": "code",
      "source": [
        "# Variables and Constants\n",
        "user_name = 'Alex'\n",
        "user_age = 22\n",
        "GRAVITY = 9.81  # Constant\n",
        "\n",
        "print(\"User Name:\", user_name)\n",
        "print(\"User Age:\", user_age)\n",
        "print(\"Gravity Constant:\", GRAVITY)"
      ],
      "metadata": {
        "colab": {
          "base_uri": "https://localhost:8080/"
        },
        "id": "ZAVm2doiPh6w",
        "outputId": "ff0f46f7-c781-49d2-a4f0-4b2129ecb0e0"
      },
      "execution_count": 2,
      "outputs": [
        {
          "output_type": "stream",
          "name": "stdout",
          "text": [
            "User Name: Alex\n",
            "User Age: 22\n",
            "Gravity Constant: 9.81\n"
          ]
        }
      ]
    },
    {
      "cell_type": "code",
      "source": [
        "# Input and Output\n",
        "fav_color = input(\"Enter your favorite color: \")\n",
        "print(\"Your favorite color is:\", fav_color)"
      ],
      "metadata": {
        "colab": {
          "base_uri": "https://localhost:8080/"
        },
        "id": "PoTvXUSSPjkA",
        "outputId": "4c536e3a-c2bd-402e-cc49-4c0fe5447d7d"
      },
      "execution_count": 3,
      "outputs": [
        {
          "output_type": "stream",
          "name": "stdout",
          "text": [
            "Enter your favorite color: blue\n",
            "Your favorite color is: blue\n"
          ]
        }
      ]
    },
    {
      "cell_type": "code",
      "source": [
        "# Primitive Data Types\n",
        "int_val = 42\n",
        "float_val = 3.14\n",
        "complex_val = 5 + 2j\n",
        "\n",
        "print(\"Complex number real part:\", complex_val.real)\n",
        "print(\"Complex number imaginary part:\", complex_val.imag)"
      ],
      "metadata": {
        "colab": {
          "base_uri": "https://localhost:8080/"
        },
        "id": "VzMbH04XPlOf",
        "outputId": "c856bab5-1955-4907-f93d-97bad3e0d342"
      },
      "execution_count": 4,
      "outputs": [
        {
          "output_type": "stream",
          "name": "stdout",
          "text": [
            "Complex number real part: 5.0\n",
            "Complex number imaginary part: 2.0\n"
          ]
        }
      ]
    },
    {
      "cell_type": "code",
      "source": [
        "# String Manipulation\n",
        "phrase = \"Python programming is fun!\"\n",
        "print(\"First character:\", phrase[0])\n",
        "print(\"Last character:\", phrase[-1])\n",
        "print(\"Substring:\", phrase[0:6])\n",
        "print(\"Lowercase:\", phrase.lower())\n",
        "print(\"Uppercase:\", phrase.upper())\n",
        "print(\"Replaced text:\", phrase.replace(\"fun\", \"awesome\"))"
      ],
      "metadata": {
        "colab": {
          "base_uri": "https://localhost:8080/"
        },
        "id": "HpueBCVFPnlH",
        "outputId": "16c2727f-6369-4bc1-a8f2-3d07dda29e9a"
      },
      "execution_count": 5,
      "outputs": [
        {
          "output_type": "stream",
          "name": "stdout",
          "text": [
            "First character: P\n",
            "Last character: !\n",
            "Substring: Python\n",
            "Lowercase: python programming is fun!\n",
            "Uppercase: PYTHON PROGRAMMING IS FUN!\n",
            "Replaced text: Python programming is awesome!\n"
          ]
        }
      ]
    }
  ]
}