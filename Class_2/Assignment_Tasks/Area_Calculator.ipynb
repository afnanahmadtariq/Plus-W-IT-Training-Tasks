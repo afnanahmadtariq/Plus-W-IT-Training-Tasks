{
  "cells": [
    {
      "cell_type": "code",
      "execution_count": 1,
      "metadata": {
        "colab": {
          "base_uri": "https://localhost:8080/"
        },
        "id": "vuQCNCTnL29Y",
        "outputId": "4f5be228-6af5-4b14-d6bd-c26987187fc9"
      },
      "outputs": [
        {
          "name": "stdout",
          "output_type": "stream",
          "text": [
            "Calculate the area of following shapes:\n",
            "1. Circle\n",
            "2. Rectangle\n",
            "3. Square\n",
            "4. Triangle\n",
            "Enter your shape choice: Circle\n"
          ]
        }
      ],
      "source": [
        "# Input Shape Choice from User\n",
        "\n",
        "print(\"Calculate the area of following shapes:\")\n",
        "print(\"1. Circle\")\n",
        "print(\"2. Rectangle\")\n",
        "print(\"3. Square\")\n",
        "print(\"4. Triangle\")\n",
        "shape = input(\"Enter your shape choice: \")"
      ]
    },
    {
      "cell_type": "code",
      "execution_count": 2,
      "metadata": {
        "colab": {
          "base_uri": "https://localhost:8080/"
        },
        "id": "UZkQICjML29c",
        "outputId": "b36a95d0-7000-471c-80f4-5dceb0508adb"
      },
      "outputs": [
        {
          "name": "stdout",
          "output_type": "stream",
          "text": [
            "Find the area of Circle: \n",
            "\n",
            "Enter the radius of the circle: 5\n"
          ]
        }
      ],
      "source": [
        "# Circle area calculation\n",
        "\n",
        "print(\"Find the area of Circle: \\n\")\n",
        "radius = float(input(\"Enter the radius of the circle: \"))\n",
        "pi = 3.14\n",
        "areaOfCircle = pi * ( radius ** 2 )"
      ]
    },
    {
      "cell_type": "code",
      "execution_count": 3,
      "metadata": {
        "colab": {
          "base_uri": "https://localhost:8080/"
        },
        "id": "ie70nlVgL29d",
        "outputId": "af4f1b75-2c1a-434f-b09a-02da1ef00b81"
      },
      "outputs": [
        {
          "name": "stdout",
          "output_type": "stream",
          "text": [
            "Find the area of Rectangle: \n",
            "\n",
            "Enter the length of the rectangle: 8\n",
            "Enter the width of the rectangle: 4\n"
          ]
        }
      ],
      "source": [
        "# Rectangle area calculation\n",
        "\n",
        "print(\"Find the area of Rectangle: \\n\")\n",
        "length = float(input(\"Enter the length of the rectangle: \"))\n",
        "width = float(input(\"Enter the width of the rectangle: \") )\n",
        "areaOfRectangle = length * width"
      ]
    },
    {
      "cell_type": "code",
      "execution_count": 4,
      "metadata": {
        "colab": {
          "base_uri": "https://localhost:8080/"
        },
        "id": "BNy55GD9L29e",
        "outputId": "b75d6709-7aa1-4d2c-885c-71e4a5c4fe47"
      },
      "outputs": [
        {
          "name": "stdout",
          "output_type": "stream",
          "text": [
            "Find the area of Square: \n",
            "\n",
            "Enter the length of the sqaure: 5\n"
          ]
        }
      ],
      "source": [
        "# Square area calculation\n",
        "\n",
        "print(\"Find the area of Square: \\n\")\n",
        "side = float(input(\"Enter the length of the sqaure: \"))\n",
        "areaOfSquare =  side ** 2"
      ]
    },
    {
      "cell_type": "code",
      "execution_count": 6,
      "metadata": {
        "colab": {
          "base_uri": "https://localhost:8080/"
        },
        "id": "IDn0gCBlL29e",
        "outputId": "0e2b6e2d-9a5f-4746-e375-7efacc6ccfef"
      },
      "outputs": [
        {
          "name": "stdout",
          "output_type": "stream",
          "text": [
            "Find the area of Trianlge: \n",
            "\n",
            "Enter the length of base of the triangle: 5\n",
            "Enter the height of the triangle: 3\n"
          ]
        }
      ],
      "source": [
        "# Triangle area calculation\n",
        "\n",
        "print(\"Find the area of Trianlge: \\n\")\n",
        "base = float(input(\"Enter the length of base of the triangle: \"))\n",
        "height = float(input(\"Enter the height of the triangle: \"))\n",
        "areaOfTriangle = 0.5 * base * height"
      ]
    },
    {
      "cell_type": "code",
      "execution_count": 7,
      "metadata": {
        "colab": {
          "base_uri": "https://localhost:8080/"
        },
        "id": "Pr1LKL_3L29e",
        "outputId": "24e1596d-c5e2-49a3-ac8d-eb698d92be4a"
      },
      "outputs": [
        {
          "output_type": "stream",
          "name": "stdout",
          "text": [
            "All the areas are: \n",
            "\n",
            "The area of the circle is: 78.5 \n",
            "\n",
            "The area of the rectangle is: 32.0 \n",
            "\n",
            "The area of the square is: 25.0 \n",
            "\n",
            "The area of the triangle is: 7.5 \n",
            "\n"
          ]
        }
      ],
      "source": [
        "# Print all areas\n",
        "\n",
        "print(\"All the areas are: \\n\")\n",
        "print(\"The area of the circle is:\", areaOfCircle, \"\\n\")\n",
        "print(\"The area of the rectangle is:\", areaOfRectangle, \"\\n\")\n",
        "print(\"The area of the square is:\", areaOfSquare, \"\\n\")\n",
        "print(\"The area of the triangle is:\", areaOfTriangle, \"\\n\")"
      ]
    }
  ],
  "metadata": {
    "colab": {
      "provenance": []
    },
    "kernelspec": {
      "display_name": "Python 3",
      "name": "python3"
    },
    "language_info": {
      "codemirror_mode": {
        "name": "ipython",
        "version": 3
      },
      "file_extension": ".py",
      "mimetype": "text/x-python",
      "name": "python",
      "nbconvert_exporter": "python",
      "pygments_lexer": "ipython3",
      "version": "3.12.5"
    }
  },
  "nbformat": 4,
  "nbformat_minor": 0
}