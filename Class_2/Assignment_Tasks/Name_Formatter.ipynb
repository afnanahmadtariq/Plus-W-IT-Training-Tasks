{
  "cells": [
    {
      "cell_type": "code",
      "execution_count": 2,
      "metadata": {
        "colab": {
          "base_uri": "https://localhost:8080/"
        },
        "id": "ffV9molQKZHw",
        "outputId": "3fa10cbf-7cf6-45d6-8cb6-406d4b8cb753"
      },
      "outputs": [
        {
          "name": "stdout",
          "output_type": "stream",
          "text": [
            "Enter your first name: Afnan\n",
            "Enter your last name: Ahmad Tariq\n"
          ]
        }
      ],
      "source": [
        "# Input your first name and last name\n",
        "\n",
        "first_name = input(\"Enter your first name: \")\n",
        "last_name = input(\"Enter your last name: \")"
      ]
    },
    {
      "cell_type": "code",
      "execution_count": 3,
      "metadata": {
        "id": "EAZuwZGyKZHz"
      },
      "outputs": [],
      "source": [
        "# Convert first name to uppercase and last name to lowercase\n",
        "\n",
        "first_name = first_name.upper()\n",
        "last_name = last_name.lower()"
      ]
    },
    {
      "cell_type": "code",
      "execution_count": 4,
      "metadata": {
        "id": "-glBJxX6KZH0"
      },
      "outputs": [],
      "source": [
        "# Calculate and print the sum of the letters\n",
        "\n",
        "total_letters = len(first_name) + len(last_name)"
      ]
    },
    {
      "cell_type": "code",
      "execution_count": 5,
      "metadata": {
        "colab": {
          "base_uri": "https://localhost:8080/"
        },
        "id": "6dk7q49dKZH0",
        "outputId": "923b491e-7fb1-4a7a-b643-926194907a2e"
      },
      "outputs": [
        {
          "name": "stdout",
          "output_type": "stream",
          "text": [
            "First name (upper): AFNAN\n",
            "Last name (lower): ahmad tariq\n",
            "Sum of letters in your first and last name: 16\n"
          ]
        }
      ],
      "source": [
        "# Print the first name in uppercase, last name in lowercase, and the total letters\n",
        "\n",
        "print(f\"First name (upper): {first_name}\")\n",
        "print(f\"Last name (lower): {last_name}\")\n",
        "print(\"Sum of letters in your first and last name:\", total_letters)"
      ]
    }
  ],
  "metadata": {
    "colab": {
      "provenance": []
    },
    "kernelspec": {
      "display_name": "Python 3",
      "name": "python3"
    },
    "language_info": {
      "codemirror_mode": {
        "name": "ipython",
        "version": 3
      },
      "file_extension": ".py",
      "mimetype": "text/x-python",
      "name": "python",
      "nbconvert_exporter": "python",
      "pygments_lexer": "ipython3",
      "version": "3.12.5"
    }
  },
  "nbformat": 4,
  "nbformat_minor": 0
}
