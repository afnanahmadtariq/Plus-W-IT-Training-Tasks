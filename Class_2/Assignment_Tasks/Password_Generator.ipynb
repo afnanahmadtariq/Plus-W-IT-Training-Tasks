{
  "cells": [
    {
      "cell_type": "code",
      "execution_count": 1,
      "metadata": {
        "id": "YaXsDm33NdNK"
      },
      "outputs": [],
      "source": [
        "# Importing the random module\n",
        "\n",
        "import random"
      ]
    },
    {
      "cell_type": "code",
      "execution_count": 2,
      "metadata": {
        "id": "HnhTl2mgNdNM"
      },
      "outputs": [],
      "source": [
        "# Defining the list of colors\n",
        "\n",
        "colors = [\"red\", \"blue\", \"green\", \"yellow\", \"orange\", \"purple\"]"
      ]
    },
    {
      "cell_type": "code",
      "execution_count": 3,
      "metadata": {
        "id": "ptLcz08hNdNM"
      },
      "outputs": [],
      "source": [
        "# Generating a random index\n",
        "\n",
        "index = random.randint(0, len(colors) - 1)"
      ]
    },
    {
      "cell_type": "code",
      "execution_count": 4,
      "metadata": {
        "id": "NJIGj3vpNdNM"
      },
      "outputs": [],
      "source": [
        "# Selecting the color\n",
        "\n",
        "selected_color = colors[index]"
      ]
    },
    {
      "cell_type": "code",
      "execution_count": 5,
      "metadata": {
        "id": "YPOwR9cNNdNN"
      },
      "outputs": [],
      "source": [
        "# Reversing the selected color\n",
        "\n",
        "password = selected_color[::-1]"
      ]
    },
    {
      "cell_type": "code",
      "execution_count": 6,
      "metadata": {
        "id": "dK4o6ls_NdNN",
        "outputId": "ec784811-e79d-4434-a6b5-e3d35b714f85",
        "colab": {
          "base_uri": "https://localhost:8080/"
        }
      },
      "outputs": [
        {
          "output_type": "stream",
          "name": "stdout",
          "text": [
            "Selected Color: blue\n",
            "Generated Password: eulb\n"
          ]
        }
      ],
      "source": [
        "# Printing the results\n",
        "\n",
        "print(\"Selected Color:\", selected_color)\n",
        "print(\"Generated Password:\", password)"
      ]
    }
  ],
  "metadata": {
    "colab": {
      "provenance": []
    },
    "kernelspec": {
      "display_name": "Python 3",
      "name": "python3"
    },
    "language_info": {
      "codemirror_mode": {
        "name": "ipython",
        "version": 3
      },
      "file_extension": ".py",
      "mimetype": "text/x-python",
      "name": "python",
      "nbconvert_exporter": "python",
      "pygments_lexer": "ipython3",
      "version": "3.12.5"
    }
  },
  "nbformat": 4,
  "nbformat_minor": 0
}